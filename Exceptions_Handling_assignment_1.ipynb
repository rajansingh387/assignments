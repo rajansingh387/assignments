{
  "nbformat": 4,
  "nbformat_minor": 0,
  "metadata": {
    "colab": {
      "provenance": [],
      "authorship_tag": "ABX9TyOrVM4A0v0D0PEMBQqTDvFP",
      "include_colab_link": true
    },
    "kernelspec": {
      "name": "python3",
      "display_name": "Python 3"
    },
    "language_info": {
      "name": "python"
    }
  },
  "cells": [
    {
      "cell_type": "markdown",
      "metadata": {
        "id": "view-in-github",
        "colab_type": "text"
      },
      "source": [
        "<a href=\"https://colab.research.google.com/github/rajansingh387/assignments/blob/main/Exceptions_Handling_assignment_1.ipynb\" target=\"_parent\"><img src=\"https://colab.research.google.com/assets/colab-badge.svg\" alt=\"Open In Colab\"/></a>"
      ]
    },
    {
      "cell_type": "markdown",
      "source": [
        "q1-what is an exception in python.difference between exceptions and syntax errors"
      ],
      "metadata": {
        "id": "1ggcp9CJi0Ts"
      }
    },
    {
      "cell_type": "markdown",
      "source": [
        "exceptions are those errors which can affect the normal flow of a code, it happens when something unexpected happens to the code.\n",
        "\n",
        "exp- opening a file that doesn't exist, zero division error\n",
        "\n",
        "real life example - raj is going to make a  chocolate cake but there is no chocolate availabile this can be defined as exception, now to handle that situation rajan makes a vanila cake instead of choclate cake that can be called as exception handling.\n",
        "\n",
        "syntax error are error happening because of a typing mistake or any other mistake done by the coder these type of error can be fixed with little tweaking\n",
        "\n",
        "\n",
        "for example- in the cake rajan fogot to add sugar now he can fix it by adding sugar"
      ],
      "metadata": {
        "id": "AMa2IMPajR4y"
      }
    },
    {
      "cell_type": "code",
      "source": [
        "#exception\n",
        "a= 5\n",
        "b= 0\n",
        "a/0"
      ],
      "metadata": {
        "colab": {
          "base_uri": "https://localhost:8080/",
          "height": 210
        },
        "id": "5__DIkZVlE9L",
        "outputId": "ed1fe035-be6f-4370-f2a8-d56f966accf2"
      },
      "execution_count": null,
      "outputs": [
        {
          "output_type": "error",
          "ename": "ZeroDivisionError",
          "evalue": "ignored",
          "traceback": [
            "\u001b[0;31m---------------------------------------------------------------------------\u001b[0m",
            "\u001b[0;31mZeroDivisionError\u001b[0m                         Traceback (most recent call last)",
            "\u001b[0;32m<ipython-input-1-bdd4c8507bc2>\u001b[0m in \u001b[0;36m<cell line: 4>\u001b[0;34m()\u001b[0m\n\u001b[1;32m      2\u001b[0m \u001b[0ma\u001b[0m\u001b[0;34m=\u001b[0m \u001b[0;36m5\u001b[0m\u001b[0;34m\u001b[0m\u001b[0;34m\u001b[0m\u001b[0m\n\u001b[1;32m      3\u001b[0m \u001b[0mb\u001b[0m\u001b[0;34m=\u001b[0m \u001b[0;36m0\u001b[0m\u001b[0;34m\u001b[0m\u001b[0;34m\u001b[0m\u001b[0m\n\u001b[0;32m----> 4\u001b[0;31m \u001b[0ma\u001b[0m\u001b[0;34m/\u001b[0m\u001b[0;36m0\u001b[0m\u001b[0;34m\u001b[0m\u001b[0;34m\u001b[0m\u001b[0m\n\u001b[0m",
            "\u001b[0;31mZeroDivisionError\u001b[0m: division by zero"
          ]
        }
      ]
    },
    {
      "cell_type": "code",
      "source": [
        "#sytax error\n",
        "print('hello welcome home)"
      ],
      "metadata": {
        "colab": {
          "base_uri": "https://localhost:8080/",
          "height": 140
        },
        "id": "85qCBqGemA4C",
        "outputId": "188477dd-d190-4ef1-9b38-670057f73206"
      },
      "execution_count": null,
      "outputs": [
        {
          "output_type": "error",
          "ename": "SyntaxError",
          "evalue": "ignored",
          "traceback": [
            "\u001b[0;36m  File \u001b[0;32m\"<ipython-input-2-1e53eb5f00f1>\"\u001b[0;36m, line \u001b[0;32m2\u001b[0m\n\u001b[0;31m    print('hello welcome home)\u001b[0m\n\u001b[0m          ^\u001b[0m\n\u001b[0;31mSyntaxError\u001b[0m\u001b[0;31m:\u001b[0m unterminated string literal (detected at line 2)\n"
          ]
        }
      ]
    },
    {
      "cell_type": "markdown",
      "source": [
        "q2- what happens when an exception is not handled?explain with an example."
      ],
      "metadata": {
        "id": "bWN_wqU6mVES"
      }
    },
    {
      "cell_type": "markdown",
      "source": [
        "when we run a code without doing exception handling the program's normal flow will get affected by it.It can show error message or if we take worst case scenario it can crash the whole program"
      ],
      "metadata": {
        "id": "Rq-AMacimwOj"
      }
    },
    {
      "cell_type": "code",
      "source": [
        "#when exception is handled\n",
        "try:\n",
        "  a=10\n",
        "  b=0\n",
        "  c=a/b\n",
        "  print(c)\n",
        "except Exception as e:\n",
        "  print(\"new error but program won't stop because of it\",e)\n",
        "d= a+b\n",
        "print(d)\n",
        "print(a)\n",
        "print(a*a)\n"
      ],
      "metadata": {
        "colab": {
          "base_uri": "https://localhost:8080/"
        },
        "id": "DrzXC43YmUHz",
        "outputId": "1286ce33-ef8f-46c6-95c7-6a484b2f8697"
      },
      "execution_count": null,
      "outputs": [
        {
          "output_type": "stream",
          "name": "stdout",
          "text": [
            "new error but program won't stop because of it division by zero\n",
            "10\n",
            "10\n",
            "100\n"
          ]
        }
      ]
    },
    {
      "cell_type": "code",
      "source": [
        "##when exception is not handled properly\n",
        "a=10\n",
        "b=0\n",
        "c=a/b\n",
        "print(c)\n",
        "d= a+b\n",
        "print(d)\n",
        "print(a)\n",
        "print(a*a)"
      ],
      "metadata": {
        "colab": {
          "base_uri": "https://localhost:8080/",
          "height": 245
        },
        "id": "SBSfPy8AoR6o",
        "outputId": "347ed7af-8ad9-430f-d424-d0b6bdddb24a"
      },
      "execution_count": null,
      "outputs": [
        {
          "output_type": "error",
          "ename": "ZeroDivisionError",
          "evalue": "ignored",
          "traceback": [
            "\u001b[0;31m---------------------------------------------------------------------------\u001b[0m",
            "\u001b[0;31mZeroDivisionError\u001b[0m                         Traceback (most recent call last)",
            "\u001b[0;32m<ipython-input-9-e79c674db824>\u001b[0m in \u001b[0;36m<cell line: 3>\u001b[0;34m()\u001b[0m\n\u001b[1;32m      1\u001b[0m \u001b[0ma\u001b[0m\u001b[0;34m=\u001b[0m\u001b[0;36m10\u001b[0m\u001b[0;34m\u001b[0m\u001b[0;34m\u001b[0m\u001b[0m\n\u001b[1;32m      2\u001b[0m \u001b[0mb\u001b[0m\u001b[0;34m=\u001b[0m\u001b[0;36m0\u001b[0m\u001b[0;34m\u001b[0m\u001b[0;34m\u001b[0m\u001b[0m\n\u001b[0;32m----> 3\u001b[0;31m \u001b[0mc\u001b[0m\u001b[0;34m=\u001b[0m\u001b[0ma\u001b[0m\u001b[0;34m/\u001b[0m\u001b[0mb\u001b[0m\u001b[0;34m\u001b[0m\u001b[0;34m\u001b[0m\u001b[0m\n\u001b[0m\u001b[1;32m      4\u001b[0m \u001b[0mprint\u001b[0m\u001b[0;34m(\u001b[0m\u001b[0mc\u001b[0m\u001b[0;34m)\u001b[0m\u001b[0;34m\u001b[0m\u001b[0;34m\u001b[0m\u001b[0m\n\u001b[1;32m      5\u001b[0m \u001b[0md\u001b[0m\u001b[0;34m=\u001b[0m \u001b[0ma\u001b[0m\u001b[0;34m+\u001b[0m\u001b[0mb\u001b[0m\u001b[0;34m\u001b[0m\u001b[0;34m\u001b[0m\u001b[0m\n",
            "\u001b[0;31mZeroDivisionError\u001b[0m: division by zero"
          ]
        }
      ]
    },
    {
      "cell_type": "markdown",
      "source": [
        "Q3- which python statements are used to catch and handle exceptions? explain with example\n",
        "\n",
        "in python we use try and except to catch and handle the exceptions-\n",
        "try- we write code that we suspect that it can generate an exception in try block.\n",
        "except- in the except block we handle the exceptions to do that we can use different type of exception handling techniques like, handling single exception, handling multiple exception,handling all exception."
      ],
      "metadata": {
        "id": "ltO3FpNrouT5"
      }
    },
    {
      "cell_type": "code",
      "source": [
        "try:\n",
        "    num = int(input('write any number'))\n",
        "    result = 10 / num\n",
        "    print(result)\n",
        "except (ZeroDivisionError,ValueError ) as e:\n",
        "    print(\"final error\",e)\n",
        "\n",
        "# when we divide num with0 it will give zero division error and when we divide it with a word  it will give value error"
      ],
      "metadata": {
        "colab": {
          "base_uri": "https://localhost:8080/"
        },
        "id": "xvVe_DZYp8Vx",
        "outputId": "9baaa9ba-a547-4d02-b946-25d826fa0866"
      },
      "execution_count": null,
      "outputs": [
        {
          "output_type": "stream",
          "name": "stdout",
          "text": [
            "write any numbere\n",
            "final error invalid literal for int() with base 10: 'e'\n"
          ]
        }
      ]
    },
    {
      "cell_type": "markdown",
      "source": [
        "Q4- explain with example\n",
        "\n",
        "try,else\n",
        "finally\n",
        "raise"
      ],
      "metadata": {
        "id": "cmxJrY8brVqA"
      }
    },
    {
      "cell_type": "markdown",
      "source": [
        "try- in this block we put code that can raise an exception\n",
        "\n",
        "else- this block will only get excecuted if there are no exceptions in try block"
      ],
      "metadata": {
        "id": "_YFxbhInrpPv"
      }
    },
    {
      "cell_type": "code",
      "source": [
        "#because we are trying to open a file that is not there it will raise an exception and because of it except box will get excecuted\n",
        "#and else block will not get excecuted\n",
        "try:\n",
        "  f= open('text1','r')\n",
        "  f.write('i am ther best')\n",
        "except Exception as e:\n",
        "  print('exception is:',e)\n",
        "else:\n",
        "  print('there are no exceptions')"
      ],
      "metadata": {
        "colab": {
          "base_uri": "https://localhost:8080/"
        },
        "id": "lrRNBqedsERg",
        "outputId": "198e325e-7a3d-496c-b047-a34941b6f18a"
      },
      "execution_count": null,
      "outputs": [
        {
          "output_type": "stream",
          "name": "stdout",
          "text": [
            "exception is: not writable\n"
          ]
        }
      ]
    },
    {
      "cell_type": "code",
      "source": [
        "#because we are trying to open a file that is there it will not raise an exception and because of it else box will get excecuted\n",
        "try:\n",
        "  f= open('text1','w')\n",
        "  f.write('i am ther best')\n",
        "except Exception as e:\n",
        "  print('exception is:',e)\n",
        "else:\n",
        "  print('there are no exceptions')"
      ],
      "metadata": {
        "colab": {
          "base_uri": "https://localhost:8080/"
        },
        "id": "YRT8W5Dssf1v",
        "outputId": "9628bd3b-4b77-447c-fa44-1cfe0b66f06f"
      },
      "execution_count": null,
      "outputs": [
        {
          "output_type": "stream",
          "name": "stdout",
          "text": [
            "there are no exceptions\n"
          ]
        }
      ]
    },
    {
      "cell_type": "markdown",
      "source": [
        "finally- anything we write in this block will get excecuted,it dosen't matter if there is an exception or not"
      ],
      "metadata": {
        "id": "0TbFAnUstFXf"
      }
    },
    {
      "cell_type": "code",
      "source": [
        "try:\n",
        "  f= open('text1','w')\n",
        "  f.write('hello anyone there ?')\n",
        "  print('what do you think about me??')\n",
        "except Exception as e:\n",
        "  print('exception is:',e)\n",
        "finally:\n",
        "  print(\"it dosen't matter what you think about me, double champ does whatever he wants,whenever he wants\")"
      ],
      "metadata": {
        "colab": {
          "base_uri": "https://localhost:8080/"
        },
        "id": "5jSf5At7tavm",
        "outputId": "4b7d4b89-acff-42fd-f561-80274eafd099"
      },
      "execution_count": null,
      "outputs": [
        {
          "output_type": "stream",
          "name": "stdout",
          "text": [
            "what do you think about me??\n",
            "it dosen't matter what you think about me, double champ does whatever he wants,whenever he wants\n"
          ]
        }
      ]
    },
    {
      "cell_type": "markdown",
      "source": [
        "raise- it is used when you want to create you own custom exception"
      ],
      "metadata": {
        "id": "v_wqsjeMuSiw"
      }
    },
    {
      "cell_type": "code",
      "source": [
        "def real_age(age):\n",
        "    if age < 0:\n",
        "        raise ValueError(\"negative number not allowed\")\n",
        "    elif age < 18:\n",
        "        raise ValueError(\"iski to beard bhi ne aaaye\")\n",
        "    else:\n",
        "        print(\"finally a mature man\")\n",
        "\n",
        "try:\n",
        "    age = int(input(\"what is your age: \"))\n",
        "    real_age(age)\n",
        "except ValueError as e:\n",
        "    print(\"Invalid age:\", e)\n"
      ],
      "metadata": {
        "colab": {
          "base_uri": "https://localhost:8080/"
        },
        "id": "pNynW7ONuKV3",
        "outputId": "a3f86e28-ab94-433b-c72a-0ff6a3918822"
      },
      "execution_count": null,
      "outputs": [
        {
          "output_type": "stream",
          "name": "stdout",
          "text": [
            "what is your age: 17\n",
            "Invalid age: iski to beard bhi ne aaaye\n"
          ]
        }
      ]
    },
    {
      "cell_type": "markdown",
      "source": [
        "Q5- what are custom exception in python? why do we need custom exception? explain with an example."
      ],
      "metadata": {
        "id": "2OjcT196vdf2"
      }
    },
    {
      "cell_type": "markdown",
      "source": [
        "custom exception are exceptions created by the user himself to handle specific conditions or errors.\n",
        "for example - you want to raise an error in a bank account that says you can't witdraw any more money because you have already crossed the limit of 10000.\n"
      ],
      "metadata": {
        "id": "MYGg2iEhvxEP"
      }
    },
    {
      "cell_type": "markdown",
      "source": [
        "q6- create a custom exception class and use this class to handle exception"
      ],
      "metadata": {
        "id": "5XFKXm5c3uiy"
      }
    },
    {
      "cell_type": "code",
      "source": [
        "class validate_bank_balance(Exception):\n",
        "  def __init__(self,msg):\n",
        "    self.msg= msg\n"
      ],
      "metadata": {
        "id": "4jM_-tba13Wj"
      },
      "execution_count": 3,
      "outputs": []
    },
    {
      "cell_type": "code",
      "source": [
        "def funds(account_balance,amount):\n",
        "  if account_balance< amount:\n",
        "    raise validate_bank_balance('low balance')\n",
        "  else:\n",
        "    account_balance= account_balance- amount\n",
        "    print('new account balance is ',account_balance)"
      ],
      "metadata": {
        "id": "OD2wo9m7wxBG"
      },
      "execution_count": 5,
      "outputs": []
    },
    {
      "cell_type": "code",
      "source": [
        "try:\n",
        "  account_balance= 100000\n",
        "  amount= 1000000\n",
        "  funds(account_balance,amount)\n",
        "except validate_bank_balance as e:\n",
        "  print(e)"
      ],
      "metadata": {
        "colab": {
          "base_uri": "https://localhost:8080/"
        },
        "id": "bDrSTqlQ23Hs",
        "outputId": "cafbf65f-5fa8-4ada-8b4b-e19eb79e8dfd"
      },
      "execution_count": 8,
      "outputs": [
        {
          "output_type": "stream",
          "name": "stdout",
          "text": [
            "low balance\n"
          ]
        }
      ]
    },
    {
      "cell_type": "code",
      "source": [],
      "metadata": {
        "id": "BS_JhYX43VPh"
      },
      "execution_count": null,
      "outputs": []
    }
  ]
}