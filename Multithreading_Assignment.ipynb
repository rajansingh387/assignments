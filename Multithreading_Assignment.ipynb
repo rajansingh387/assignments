{
  "nbformat": 4,
  "nbformat_minor": 0,
  "metadata": {
    "colab": {
      "provenance": [],
      "authorship_tag": "ABX9TyOAR3jkvUWJc25zZKYCAK9b",
      "include_colab_link": true
    },
    "kernelspec": {
      "name": "python3",
      "display_name": "Python 3"
    },
    "language_info": {
      "name": "python"
    }
  },
  "cells": [
    {
      "cell_type": "markdown",
      "metadata": {
        "id": "view-in-github",
        "colab_type": "text"
      },
      "source": [
        "<a href=\"https://colab.research.google.com/github/rajansingh387/assignments/blob/main/Multithreading_Assignment.ipynb\" target=\"_parent\"><img src=\"https://colab.research.google.com/assets/colab-badge.svg\" alt=\"Open In Colab\"/></a>"
      ]
    },
    {
      "cell_type": "markdown",
      "source": [
        "q1- What is multithreading in python? why is it used? Name the module used to handle threads in python\n",
        "\n",
        "multithreading in python is a programs capability of running multiple threads separatly within a single process or we can say in multi threading a single programs gets divided into small parts and all of those parts runs concurrently in a single process.\n",
        "we use multithreading to improve perfomance of a program and also to improve resource utilization.\n",
        "multi threading can make a task  more efficient by allowing it to run multiple process concurrently. it can improve the responsiveness of applications by allowing different tasks to be executed simultaneously.\n",
        "\n",
        "the threading module is used to handle threads in Python."
      ],
      "metadata": {
        "id": "sq6jnULajwmm"
      }
    },
    {
      "cell_type": "code",
      "source": [
        "import threading\n",
        "import time\n",
        "\n",
        "def print_numbers():\n",
        "    for i in range(1, 6):\n",
        "        print(f\"number {i}\")\n",
        "        time.sleep(1)\n",
        "\n",
        "\n",
        "def print_letters():\n",
        "    for letter in 'abcde':\n",
        "        print(f\"letter {letter}\")\n",
        "        time.sleep(2)\n",
        "\n",
        "t1 = threading.Thread(target=print_numbers)\n",
        "t2 = threading.Thread(target=print_letters)\n",
        "\n",
        "t1.start()\n",
        "t2.start()\n",
        "\n",
        "t1.join()\n",
        "t2.join()\n",
        "\n",
        "print(\"both threads have finished\")\n"
      ],
      "metadata": {
        "colab": {
          "base_uri": "https://localhost:8080/"
        },
        "id": "2PwVbD5Sl1fH",
        "outputId": "423fd595-92d4-4b20-9b23-6f7acfa41b78"
      },
      "execution_count": 9,
      "outputs": [
        {
          "output_type": "stream",
          "name": "stdout",
          "text": [
            "Number 1Letter a\n",
            "\n",
            "Number 2\n",
            "Letter b\n",
            "Number 3\n",
            "Number 4\n",
            "Letter c\n",
            "Number 5\n",
            "Letter d\n",
            "Letter e\n",
            "Both threads have finished\n"
          ]
        }
      ]
    },
    {
      "cell_type": "markdown",
      "source": [
        "q2-why threading module used? write the use of the following functions.\n",
        "\n",
        "( activeCount\n",
        "\n",
        " currentThread\n",
        "\n",
        " enumerate)\n",
        "\n",
        "\n",
        "the threading module is used to create and handle threads in Python allowing you to achieve better utilization of system resources."
      ],
      "metadata": {
        "id": "1a4PbaV9l3m9"
      }
    },
    {
      "cell_type": "markdown",
      "source": [
        "activeCount:\n",
        "\n",
        "This function returns the number of thread objects currently alive. it provides a count of the threads that are currently running or in a runnable state."
      ],
      "metadata": {
        "id": "r8EAvvUU3Soo"
      }
    },
    {
      "cell_type": "code",
      "source": [
        "def worker():\n",
        "    print(\"thread started\")\n",
        "\n",
        "threads = []\n",
        "for i in range(5):\n",
        "    t = threading.Thread(target=worker)\n",
        "    threads.append(t)\n",
        "    t.start()\n",
        "\n",
        "print(\"active threads:\", threading.activeCount())\n"
      ],
      "metadata": {
        "colab": {
          "base_uri": "https://localhost:8080/"
        },
        "id": "pTX3CXW92Omw",
        "outputId": "c0d778c8-7b90-46b8-909b-f13eb3f5bf56"
      },
      "execution_count": 11,
      "outputs": [
        {
          "output_type": "stream",
          "name": "stdout",
          "text": [
            "Thread started\n",
            "Thread started\n",
            "Thread started\n",
            "Thread started\n",
            "Thread startedActive threads: 6\n"
          ]
        },
        {
          "output_type": "stream",
          "name": "stderr",
          "text": [
            "<ipython-input-11-e95c776fa5a0>:10: DeprecationWarning: activeCount() is deprecated, use active_count() instead\n",
            "  print(\"Active threads:\", threading.activeCount())\n"
          ]
        },
        {
          "output_type": "stream",
          "name": "stdout",
          "text": [
            "\n"
          ]
        }
      ]
    },
    {
      "cell_type": "markdown",
      "source": [
        "currentthread:\n",
        "\n",
        " this function returns the current thread object corresponding to the caller's thread of control. it allows you to access and manipulate the properties of the current thread."
      ],
      "metadata": {
        "id": "qrfPNbEK3kUn"
      }
    },
    {
      "cell_type": "code",
      "source": [
        "def worker():\n",
        "    current = threading.currentThread()\n",
        "    print(\"thread name:\", current.name)\n",
        "\n",
        "threads = []\n",
        "for i in range(3):\n",
        "    t = threading.Thread(target=worker, name=f\"thread-{i}\")\n",
        "    threads.append(t)\n",
        "    t.start()\n"
      ],
      "metadata": {
        "colab": {
          "base_uri": "https://localhost:8080/"
        },
        "id": "7XEp0pwK2fLm",
        "outputId": "b5c5eaf8-bb84-4c29-83d6-d0073364ef6c"
      },
      "execution_count": 16,
      "outputs": [
        {
          "output_type": "stream",
          "name": "stdout",
          "text": [
            "Thread name: Thread-0\n",
            "Thread name: Thread-1\n",
            "Thread name:"
          ]
        },
        {
          "output_type": "stream",
          "name": "stderr",
          "text": [
            "<ipython-input-16-a6e1cf84fed5>:2: DeprecationWarning: currentThread() is deprecated, use current_thread() instead\n",
            "  current = threading.currentThread()\n"
          ]
        },
        {
          "output_type": "stream",
          "name": "stdout",
          "text": [
            " Thread-2\n"
          ]
        }
      ]
    },
    {
      "cell_type": "markdown",
      "source": [
        "enumerate:\n",
        "\n",
        "This function returns a list of all currently active thread objects. it provides a way to access and manage all the active threads in the program."
      ],
      "metadata": {
        "id": "24cDEow1346X"
      }
    },
    {
      "cell_type": "code",
      "source": [
        "def worker():\n",
        "    time.sleep(2)\n",
        "    print(\"thread completed\")\n",
        "\n",
        "threads = []\n",
        "for i in range(3):\n",
        "    t = threading.Thread(target=worker, name=f\"thread-{i}\")\n",
        "    threads.append(t)\n",
        "    t.start()\n",
        "\n",
        "time.sleep(1)  # Give threads some time to start\n",
        "active_threads = threading.enumerate()\n",
        "\n",
        "for thread in active_threads:\n",
        "    print(\"active thread:\", thread.name)\n",
        "\n"
      ],
      "metadata": {
        "colab": {
          "base_uri": "https://localhost:8080/"
        },
        "id": "r46XIiS-2m-o",
        "outputId": "477a6f29-7786-4697-a633-5ea2a4be0a97"
      },
      "execution_count": 17,
      "outputs": [
        {
          "output_type": "stream",
          "name": "stdout",
          "text": [
            "active thread: MainThread\n",
            "active thread: Thread-2 (_thread_main)\n",
            "active thread: Thread-3\n",
            "active thread: Thread-1\n",
            "active thread: _colab_inspector_thread\n",
            "active thread: thread-0\n",
            "active thread: thread-1\n",
            "active thread: thread-2\n"
          ]
        }
      ]
    },
    {
      "cell_type": "markdown",
      "source": [
        "3. Explain the following functions\n",
        "\n",
        "( run\n",
        "\n",
        " start\n",
        "\n",
        " join\n",
        "\n",
        "isAlive)"
      ],
      "metadata": {
        "id": "QiIA-ubh4lOw"
      }
    },
    {
      "cell_type": "markdown",
      "source": [
        "the run method is a user-defined method that contains the code to be executed within the thread.when you subclass the thread class from the threading module, you typically override the runmethod to define the behavior of the thread. the run method is automatically called when you start a thread using the start method.\n",
        "The run method is like a special instruction book that tells the program what to do.\n",
        "\n",
        "the start method is used to begin the execution of a thread.it takes care of thread initialization and resource allocation."
      ],
      "metadata": {
        "id": "cZkLHMi0_0xo"
      }
    },
    {
      "cell_type": "code",
      "source": [
        "\n",
        "class Myt(threading.Thread):\n",
        "    def run(self):\n",
        "      for i in range(5):\n",
        "        print(\"thread is running\")\n",
        "\n",
        "thread = Myt()\n",
        "thread.start()\n"
      ],
      "metadata": {
        "colab": {
          "base_uri": "https://localhost:8080/"
        },
        "id": "9uUhRZak4y4H",
        "outputId": "2413d33a-9d4f-4ad9-ed66-12949c9eab96"
      },
      "execution_count": 23,
      "outputs": [
        {
          "output_type": "stream",
          "name": "stdout",
          "text": [
            "thread is running\n",
            "thread is running\n",
            "thread is running\n",
            "thread is running\n",
            "thread is running\n"
          ]
        }
      ]
    },
    {
      "cell_type": "markdown",
      "source": [
        "join this method is used to wait for a thread to complete its execution. When you call this method on a thread, the program will pause and wait until the specified thread finishes executing before continuing with the rest of the program."
      ],
      "metadata": {
        "id": "SJcvfVMXBHff"
      }
    },
    {
      "cell_type": "code",
      "source": [
        "#without join\n",
        "def worker():\n",
        "  for i in range(10):\n",
        "    print(\"Thread started\")\n",
        "\n",
        "thread = threading.Thread(target=worker)\n",
        "thread.start()\n",
        "#thread.join()\n",
        "print(\"thread has finished\")\n",
        "#in this print thread has finished statement is not waiting for the program to finish"
      ],
      "metadata": {
        "colab": {
          "base_uri": "https://localhost:8080/"
        },
        "id": "ClHn5UAEA5Yx",
        "outputId": "6fb35666-7910-4c00-886e-b653a84bae3d"
      },
      "execution_count": 32,
      "outputs": [
        {
          "output_type": "stream",
          "name": "stdout",
          "text": [
            "Thread startedthread has finished\n",
            "Thread started\n",
            "Thread started\n",
            "Thread started\n",
            "Thread started\n",
            "Thread started\n",
            "Thread started\n",
            "Thread started\n",
            "Thread started\n",
            "Thread started\n",
            "\n"
          ]
        }
      ]
    },
    {
      "cell_type": "code",
      "source": [
        "#with join\n",
        "def worker():\n",
        "  for i in range(10):\n",
        "    print(\"Thread started\")\n",
        "\n",
        "thread = threading.Thread(target=worker)\n",
        "thread.start()\n",
        "thread.join()\n",
        "print(\"thread has finished\")\n",
        "#in this print thread has finished statement is waiting for the program to finish"
      ],
      "metadata": {
        "colab": {
          "base_uri": "https://localhost:8080/"
        },
        "id": "Idm9Z_PsB0AX",
        "outputId": "26404819-a396-4fcc-9e19-7afa0c8c11f6"
      },
      "execution_count": 33,
      "outputs": [
        {
          "output_type": "stream",
          "name": "stdout",
          "text": [
            "Thread started\n",
            "Thread started\n",
            "Thread started\n",
            "Thread started\n",
            "Thread started\n",
            "Thread started\n",
            "Thread started\n",
            "Thread started\n",
            "Thread started\n",
            "Thread started\n",
            "Thread has finished\n"
          ]
        }
      ]
    },
    {
      "cell_type": "markdown",
      "source": [
        " is_alive= is used to check if a thread is currently running. it returns true if the thread is still executing and False if the thread has completed its execution."
      ],
      "metadata": {
        "id": "PvzVh5z2DoCa"
      }
    },
    {
      "cell_type": "code",
      "source": [
        "def worker():\n",
        "    time.sleep(2)\n",
        "    print(\"thread completed\")\n",
        "\n",
        "thread = threading.Thread(target=worker)\n",
        "thread.start()\n",
        "\n",
        "while thread.is_alive():\n",
        "    print(\"thread is still busy...\")\n",
        "    time.sleep(1)\n",
        "\n",
        "print(\"thread has finished\")\n"
      ],
      "metadata": {
        "colab": {
          "base_uri": "https://localhost:8080/"
        },
        "id": "gLtVHmbrConR",
        "outputId": "b9b45083-9ce2-488d-ec5a-01859851d999"
      },
      "execution_count": 43,
      "outputs": [
        {
          "output_type": "stream",
          "name": "stdout",
          "text": [
            "thread is still busy...\n",
            "thread is still busy...\n",
            "thread is still busy...\n",
            "thread completed\n",
            "thread has finished\n"
          ]
        }
      ]
    },
    {
      "cell_type": "markdown",
      "source": [
        "q4. write a python program to create two threads. Thread one must print the list of squares and thread\n",
        "two must print the list of cubes"
      ],
      "metadata": {
        "id": "kZc9ikCYEBEI"
      }
    },
    {
      "cell_type": "code",
      "source": [
        "l=[1,2,3,4,5]\n",
        "def list_of_squares():\n",
        "  for i in l:\n",
        "    print(f'square of {i} ',i**2)\n",
        "\n",
        "def list_of_cubes():\n",
        "  for i in l:\n",
        "    print(f'cube of {i} ',i**3)\n",
        "\n",
        "t1= threading.Thread(target=list_of_squares)\n",
        "t2= threading.Thread(target=list_of_cubes)\n",
        "\n",
        "t1.start()\n",
        "t2.start()\n",
        "\n",
        "t1.join()\n",
        "t2.join()\n",
        "\n",
        "print('both threads have finished')\n",
        ""
      ],
      "metadata": {
        "colab": {
          "base_uri": "https://localhost:8080/"
        },
        "id": "ntHQ8cBTEAWx",
        "outputId": "d71450d5-d847-414c-f4e5-16be6cdc3787"
      },
      "execution_count": 55,
      "outputs": [
        {
          "output_type": "stream",
          "name": "stdout",
          "text": [
            "square of 1  1\n",
            "square of 2  4\n",
            "square of 3  9\n",
            "square of 4  16\n",
            "square of 5  25\n",
            "cube of 1  1\n",
            "cube of 2  8\n",
            "cube of 3  27\n",
            "cube of 4  64\n",
            "cube of 5  125\n",
            "both threads have finished\n"
          ]
        }
      ]
    },
    {
      "cell_type": "markdown",
      "source": [
        "Q5. State advantages and disadvantages of multithreading"
      ],
      "metadata": {
        "id": "CHYTqbRaG2qg"
      }
    },
    {
      "cell_type": "markdown",
      "source": [
        "getting more done:\n",
        "\n",
        " imagine you're cooking in the kitchen. With multithreading, it's like having multiple cooks working on different parts of the meal simultaneously now you can prepare the whole meal faster because tasks are getting done at the same time.\n",
        "\n",
        " better use of resources:\n",
        "\n",
        "  imagine a group of friends cleaning a room. With multithreading, each friend focuses on a specific area which will make the cleaning process fast and also utilization of the resources like brooms,clothers, water etc will improve too. similarly multithreading helps make the most out of your computer's processing power."
      ],
      "metadata": {
        "id": "WBJGAeqFHEPS"
      }
    },
    {
      "cell_type": "markdown",
      "source": [
        "disadvantages\n",
        "mixing:\n",
        "\n",
        " take example of multiple people trying to write on the same paper at the same time. if they don't take turns, the writing might become messy.  threads too can mix up data if they arre not synchronized properly which may lead to errors.\n",
        "\n",
        "\n",
        " extra Work :\n",
        "\n",
        "  just like managing a group project requires more planning  handling multiple threads can be more complex. You need to make sure they're working together without conflicts.\n",
        "\n",
        "  harder to solve problems:\n",
        "  \n",
        "   debugging a multithreaded program is like solving a puzzle with many pieces. if something goes wrong, finding the issue and fixing it can be trickier."
      ],
      "metadata": {
        "id": "czr1XsEHH-Mq"
      }
    },
    {
      "cell_type": "markdown",
      "source": [
        "\n",
        "\n",
        "6- Explain deadlocks and race conditions.\n",
        "\n",
        "A deadlock is a situation in which two or more threads or processes are unable to proceed because each is waiting for the other process to release a resource.\n",
        "\n",
        " just like two cars waiting for each other to move.\n",
        "\n",
        " imagine you have two threads, each thread needs a resource that the other thread currently holds. thread A is waiting for thread  and thread B is waiting for thread A.  this will result in both threads getting stuck.\n",
        "\n",
        " race condition occurs when two or more threads or processes access shared resources or data concurrently and the final outcome depends on the timing of their execution. It's like two people trying to update the same document at the same time.\n",
        "\n",
        " for example- imagine two friends trying to push buttons on an elevator to go up and down at the same time."
      ],
      "metadata": {
        "id": "qyoMjA6_I7LZ"
      }
    }
  ]
}