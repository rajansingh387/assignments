{
  "nbformat": 4,
  "nbformat_minor": 0,
  "metadata": {
    "colab": {
      "provenance": [],
      "authorship_tag": "ABX9TyMauYgdRqyW5wwc5/zqBuQ6",
      "include_colab_link": true
    },
    "kernelspec": {
      "name": "python3",
      "display_name": "Python 3"
    },
    "language_info": {
      "name": "python"
    }
  },
  "cells": [
    {
      "cell_type": "markdown",
      "metadata": {
        "id": "view-in-github",
        "colab_type": "text"
      },
      "source": [
        "<a href=\"https://colab.research.google.com/github/rajansingh387/assignments/blob/main/oops_assignment_1_.ipynb\" target=\"_parent\"><img src=\"https://colab.research.google.com/assets/colab-badge.svg\" alt=\"Open In Colab\"/></a>"
      ]
    },
    {
      "cell_type": "markdown",
      "source": [
        "Q1. Explain Class and Object with respect to Object-Oriented Programming. Give a suitable example.\n",
        "\n",
        "A class is a blueprint and method is the function this blueprint can perform.\n",
        "we can think of a class as a bike there are tires,gears,clutch,engine etc. which we can define as class, but when we push that self start button to start the bike it can be identified as method.\n",
        "\n",
        "now to access that class or method we use an obj\n",
        "so the bike itself can be identified as an obj"
      ],
      "metadata": {
        "id": "jcZEXbmJlv2i"
      }
    },
    {
      "cell_type": "code",
      "source": [
        "class bike: #this is a blue print of the bike\n",
        "  def __init__(self,model,make,color):\n",
        "    self.model= model\n",
        "    self.make= make\n",
        "    self.color= color\n",
        "\n",
        "  def start(self): #function of the bike\n",
        "    print(f'start the {self.model}bike')\n",
        "\n",
        "  def accelerate(self):\n",
        "    print(f\"{self.model},Bike  is accelerating\")\n",
        "\n"
      ],
      "metadata": {
        "id": "mCkVbcmnoRkT"
      },
      "execution_count": 7,
      "outputs": []
    },
    {
      "cell_type": "code",
      "source": [
        "mybike= bike('honda',1998,'black')"
      ],
      "metadata": {
        "id": "7l_-Gep-pP6C"
      },
      "execution_count": 8,
      "outputs": []
    },
    {
      "cell_type": "code",
      "source": [
        "mybike.start()"
      ],
      "metadata": {
        "colab": {
          "base_uri": "https://localhost:8080/"
        },
        "id": "pcGDzJZPpxM5",
        "outputId": "a290bae6-a192-4085-e67b-d4dd4f5086af"
      },
      "execution_count": 11,
      "outputs": [
        {
          "output_type": "stream",
          "name": "stdout",
          "text": [
            "start the hondabike\n"
          ]
        }
      ]
    },
    {
      "cell_type": "code",
      "source": [
        "mybike.accelerate()"
      ],
      "metadata": {
        "colab": {
          "base_uri": "https://localhost:8080/"
        },
        "id": "mcocCwMTqH2K",
        "outputId": "08c1004d-82e2-42f7-a5b9-1862da1d6e88"
      },
      "execution_count": 12,
      "outputs": [
        {
          "output_type": "stream",
          "name": "stdout",
          "text": [
            "honda,Bike  is accelerating\n"
          ]
        }
      ]
    },
    {
      "cell_type": "markdown",
      "source": [
        "Q2. Name the four pillars of OOPs.\n",
        "\n",
        "Polymorphism\n",
        "Inheritance\n",
        "Encapsulation\n",
        "Abstraction"
      ],
      "metadata": {
        "id": "cwDDC6QUlxSv"
      }
    },
    {
      "cell_type": "markdown",
      "source": [
        "Q3. Explain why the __init__() function is used. Give a suitable example.\n",
        "\n",
        "The __init__() function is used to  give the object its basic characteristics as soon as it's brought into existence. we  use  __init__ as a constructor, we use __init__ to connect provided arguments with the class. for example when we use __init__ we use use self with it too. when we create a new object __init__ will connect it with the self.now self will act as a pointer and it will connect the argument with the claass itself.\n",
        "using init is like naming a baby right after he/she is born\n",
        "and not using a init is like naming at the time of his or her's school admission."
      ],
      "metadata": {
        "id": "Ls1YVBnQwxDB"
      }
    },
    {
      "cell_type": "code",
      "source": [
        "#when we use init\n",
        "class child:\n",
        "  def __init__(self,name):\n",
        "    self.name= name\n",
        "\n",
        "  def school_admission(self):\n",
        "    print(f'name {self.name} is pre decided')\n",
        "\n",
        "ronak= child('ronak')\n",
        "ronak.school_admission()\n",
        "\n",
        "\n",
        "#when we don't\n",
        "class child2:\n",
        "  def school_admission(self,name):\n",
        "    self.name= name\n",
        "    print(f'name {self.name} is not pre decided')\n",
        "\n",
        "ronak2= child2()\n",
        "ronak2.school_admission('ronak')"
      ],
      "metadata": {
        "id": "ZzP4HuJduwq2"
      },
      "execution_count": 26,
      "outputs": []
    },
    {
      "cell_type": "markdown",
      "source": [
        "Q4 -Why self is used in OOPs?\n",
        "\n",
        "\n",
        "self is nothing but a pointer it connects instance variables with the class so that we can use these variables in other metods witin these classess using self.variablename"
      ],
      "metadata": {
        "id": "EuY0mI0h39B4"
      }
    },
    {
      "cell_type": "markdown",
      "source": [
        "Q5-What is inheritance? Give an example for each type of inheritance.\n",
        "\n",
        "when we use a parent class inside a child class it can be called as inheritance, we use inheritance to improve code's reusability\n",
        "\n",
        "types of inheritance-\n",
        "\n"
      ],
      "metadata": {
        "id": "ZW3mZegm49lh"
      }
    },
    {
      "cell_type": "code",
      "source": [
        "#single inheritance\n",
        "class parent:\n",
        "  def __init__(self,name):\n",
        "    self.name= name\n",
        "\n",
        "  def school_admission(self):\n",
        "    print(f'name {self.name} is pre decided')\n",
        "\n",
        "class new_child(child):\n",
        "  def __init__(self, name):\n",
        "    self.name= name\n",
        "    print(f\"child name is {self.name}\")\n",
        "\n",
        "  def fav_sport(self):\n",
        "    print(f'{self.name} loves cricket')\n",
        "\n",
        "ronak= child('ronak')\n",
        "ronak.school_admission()"
      ],
      "metadata": {
        "colab": {
          "base_uri": "https://localhost:8080/"
        },
        "id": "6M7pXFw76ZBB",
        "outputId": "0ae9f2da-0102-4d82-c7d0-43d67ed1961c"
      },
      "execution_count": 55,
      "outputs": [
        {
          "output_type": "stream",
          "name": "stdout",
          "text": [
            "name ronak is pre decided\n"
          ]
        }
      ]
    },
    {
      "cell_type": "code",
      "source": [
        "monak= new_child('monak')"
      ],
      "metadata": {
        "colab": {
          "base_uri": "https://localhost:8080/"
        },
        "id": "xM0LP6Kj7Jia",
        "outputId": "833ea1c2-1a4f-4a5e-c06f-a3e9683dcc3f"
      },
      "execution_count": 56,
      "outputs": [
        {
          "output_type": "stream",
          "name": "stdout",
          "text": [
            "child name is monak\n"
          ]
        }
      ]
    },
    {
      "cell_type": "code",
      "source": [
        "monak.school_admission()"
      ],
      "metadata": {
        "colab": {
          "base_uri": "https://localhost:8080/"
        },
        "id": "jjsDdsXc7uRH",
        "outputId": "765563b9-eb54-4aa8-a218-e84b24fd4a34"
      },
      "execution_count": 57,
      "outputs": [
        {
          "output_type": "stream",
          "name": "stdout",
          "text": [
            "name monak is pre decided\n"
          ]
        }
      ]
    },
    {
      "cell_type": "code",
      "source": [
        "monak.fav_sport()"
      ],
      "metadata": {
        "colab": {
          "base_uri": "https://localhost:8080/"
        },
        "id": "vGHtSGco7zU2",
        "outputId": "c121d095-6092-49f2-ce7f-e95ffdee9fd8"
      },
      "execution_count": 58,
      "outputs": [
        {
          "output_type": "stream",
          "name": "stdout",
          "text": [
            "monak loves cricket\n"
          ]
        }
      ]
    },
    {
      "cell_type": "code",
      "source": [
        "#multilevel inheritance\n",
        "class child:\n",
        "  def __init__(self,name):\n",
        "    self.name= name\n",
        "\n",
        "  def school_admission(self):\n",
        "    print(f'name {self.name} is pre decided')\n",
        "\n",
        "  def fav_food(self):\n",
        "    print(f\"{self.name}'s fav food is bhindi\")\n",
        "\n",
        "class new_child(child):\n",
        "  def __init__(self, name):\n",
        "    self.name= name\n",
        "    print(f\"child name is {self.name}\")\n",
        "\n",
        "  def fav_sport(self):\n",
        "    print(f'{self.name} loves cricket')\n",
        "\n",
        "class father(new_child):\n",
        "  def __init__(self,name):\n",
        "    self.name= name\n",
        "    pass\n",
        "\n",
        "\n",
        "\n"
      ],
      "metadata": {
        "id": "05lmANKu8ujg"
      },
      "execution_count": 72,
      "outputs": []
    },
    {
      "cell_type": "code",
      "source": [
        "father= father('amar')"
      ],
      "metadata": {
        "id": "wGaddtDT-Nah"
      },
      "execution_count": 73,
      "outputs": []
    },
    {
      "cell_type": "code",
      "source": [
        "father.fav_sport()"
      ],
      "metadata": {
        "colab": {
          "base_uri": "https://localhost:8080/"
        },
        "id": "eaJhKftr-Srv",
        "outputId": "b2dca5a8-04a8-469f-cd46-68cf93df0e7f"
      },
      "execution_count": 74,
      "outputs": [
        {
          "output_type": "stream",
          "name": "stdout",
          "text": [
            "amar loves cricket\n"
          ]
        }
      ]
    },
    {
      "cell_type": "code",
      "source": [
        "father.fav_food()"
      ],
      "metadata": {
        "colab": {
          "base_uri": "https://localhost:8080/"
        },
        "id": "JJxIvHUl-kCf",
        "outputId": "7b58ad38-63f2-4645-9174-c26cf90116c7"
      },
      "execution_count": 75,
      "outputs": [
        {
          "output_type": "stream",
          "name": "stdout",
          "text": [
            "amar's fav food is bhindi\n"
          ]
        }
      ]
    },
    {
      "cell_type": "code",
      "source": [
        "#Multiple Inheritance\n",
        "class A:\n",
        "    def method1(self):\n",
        "        return \"Method from class A\"\n",
        "\n",
        "class B:\n",
        "    def method2(self):\n",
        "        return \"Method from class B\"\n",
        "\n",
        "class C(A, B):\n",
        "    pass\n",
        "\n",
        "d = C()\n",
        "print(d.method1())\n",
        "d.method2()"
      ],
      "metadata": {
        "colab": {
          "base_uri": "https://localhost:8080/",
          "height": 53
        },
        "id": "VzM41q7i-z5P",
        "outputId": "3f8e6da2-8314-4912-efc4-766de7be62e9"
      },
      "execution_count": 80,
      "outputs": [
        {
          "output_type": "stream",
          "name": "stdout",
          "text": [
            "Method from class A\n"
          ]
        },
        {
          "output_type": "execute_result",
          "data": {
            "text/plain": [
              "'Method from class B'"
            ],
            "application/vnd.google.colaboratory.intrinsic+json": {
              "type": "string"
            }
          },
          "metadata": {},
          "execution_count": 80
        }
      ]
    },
    {
      "cell_type": "code",
      "source": [],
      "metadata": {
        "id": "THqexm0u__XI"
      },
      "execution_count": null,
      "outputs": []
    }
  ]
}