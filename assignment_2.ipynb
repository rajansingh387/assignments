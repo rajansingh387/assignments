{
  "nbformat": 4,
  "nbformat_minor": 0,
  "metadata": {
    "colab": {
      "provenance": []
    },
    "kernelspec": {
      "name": "python3",
      "display_name": "Python 3"
    },
    "language_info": {
      "name": "python"
    }
  },
  "cells": [
    {
      "cell_type": "markdown",
      "source": [
        "\n",
        "\n",
        "Q1. How do you comment code in Python? What are the different types of comments?\n",
        "\n",
        "\n"
      ],
      "metadata": {
        "id": "Da4KpwdcdLca"
      }
    },
    {
      "cell_type": "markdown",
      "source": [
        "there are three type of quotes to comment something in python(''),(\"\"),('''  '''),single, double amd triple quotes\n",
        "for a single line we can use signle and double quotes, for paragraph we use triple quotes and we can use # too.\n",
        "for exp--"
      ],
      "metadata": {
        "id": "NCtrX0VKeP2R"
      }
    },
    {
      "cell_type": "code",
      "source": [
        "'hi i am raj'\n",
        "\"hi i am raj\"\n",
        "''' we use triple quotws\n",
        " when we write a paragraph\n",
        " yuuuuu hooooo\n",
        "  '''\n",
        "# we can use this too."
      ],
      "metadata": {
        "colab": {
          "base_uri": "https://localhost:8080/",
          "height": 35
        },
        "id": "l4HQmDVFd_Bz",
        "outputId": "89d00824-7a95-41a1-dfed-9440a76671b4"
      },
      "execution_count": 5,
      "outputs": [
        {
          "output_type": "execute_result",
          "data": {
            "text/plain": [
              "' we use triple quotws\\n when we write a paragraph\\n yuuuuu hooooo\\n  '"
            ],
            "application/vnd.google.colaboratory.intrinsic+json": {
              "type": "string"
            }
          },
          "metadata": {},
          "execution_count": 5
        }
      ]
    },
    {
      "cell_type": "markdown",
      "source": [
        "Q2. What are variables in Python? How do you declare and assign values to variables?"
      ],
      "metadata": {
        "id": "WlNdH-cYev_x"
      }
    },
    {
      "cell_type": "code",
      "source": [
        "#in python we use variable to store data or value, a water bottle is a good example bottle is a variable and water is its value\n",
        "water_bottle= 'water'\n",
        "# this is how we assign a value to a variable by using = operator\n",
        "water_bottle='juice'"
      ],
      "metadata": {
        "id": "pM0n2Y_Qe2vh"
      },
      "execution_count": 7,
      "outputs": []
    },
    {
      "cell_type": "markdown",
      "source": [
        "Q3. How do you convert one data type to another in Python?"
      ],
      "metadata": {
        "id": "1BeEW1LOgEIq"
      }
    },
    {
      "cell_type": "code",
      "source": [
        "#we use type casting for that\n",
        "a= 4.5\n",
        "print(a,type(a))\n",
        "a=int(a)\n",
        "print(a,type(a))\n",
        "a= str(a)\n",
        "print(a,type(a))"
      ],
      "metadata": {
        "colab": {
          "base_uri": "https://localhost:8080/"
        },
        "id": "16eMONEwgBUz",
        "outputId": "8ee47da2-12f5-4821-b25e-aaf27a8f3f6d"
      },
      "execution_count": 10,
      "outputs": [
        {
          "output_type": "stream",
          "name": "stdout",
          "text": [
            "4.5 <class 'float'>\n",
            "4 <class 'int'>\n",
            "4 <class 'str'>\n"
          ]
        }
      ]
    },
    {
      "cell_type": "code",
      "source": [
        "b= ['a','b','c','d',1,1,2,2,4,4,5,56,24]\n",
        "print(b,type(b))\n",
        "b= tuple(b)\n",
        "print(b,type(b))\n",
        "b= set(b)\n",
        "print(b,type(b))"
      ],
      "metadata": {
        "colab": {
          "base_uri": "https://localhost:8080/"
        },
        "id": "dvDdw51agbi0",
        "outputId": "890811eb-6a43-4ee7-b428-c7fe06c6e632"
      },
      "execution_count": 12,
      "outputs": [
        {
          "output_type": "stream",
          "name": "stdout",
          "text": [
            "['a', 'b', 'c', 'd', 1, 1, 2, 2, 4, 4, 5, 56, 24] <class 'list'>\n",
            "('a', 'b', 'c', 'd', 1, 1, 2, 2, 4, 4, 5, 56, 24) <class 'tuple'>\n",
            "{'d', 1, 2, 4, 5, 'b', 'a', 'c', 56, 24} <class 'set'>\n"
          ]
        }
      ]
    },
    {
      "cell_type": "markdown",
      "source": [
        "Q4. How do you write and execute a Python script from the command line?"
      ],
      "metadata": {
        "id": "LC-2YiBMpFiK"
      }
    },
    {
      "cell_type": "code",
      "source": [
        "'''create a file in notepad write a code in it and save it as .py file.\n",
        "then open cmd and search for that directory\n",
        "for exp if your file is in desktop\n",
        "write cd desktop\n",
        "then write your file name and press enter'''"
      ],
      "metadata": {
        "id": "vT-BN5ISpGag"
      },
      "execution_count": null,
      "outputs": []
    },
    {
      "cell_type": "markdown",
      "source": [
        "Q5. Given a list my_list = [1, 2, 3, 4, 5], write the code to slice the list and obtain the sub-list [2, 3]."
      ],
      "metadata": {
        "id": "QFVKqte-ph0Q"
      }
    },
    {
      "cell_type": "code",
      "source": [
        "my_list = [1, 2, 3, 4, 5]\n",
        "my_list[1:3]"
      ],
      "metadata": {
        "colab": {
          "base_uri": "https://localhost:8080/"
        },
        "id": "up2ClTzJphDB",
        "outputId": "f4dc4960-2b5b-45ee-8bcd-ade179f4a62b"
      },
      "execution_count": 13,
      "outputs": [
        {
          "output_type": "execute_result",
          "data": {
            "text/plain": [
              "[2, 3]"
            ]
          },
          "metadata": {},
          "execution_count": 13
        }
      ]
    },
    {
      "cell_type": "markdown",
      "source": [
        "Q6. What is a complex number in mathematics, and how is it represented in Python?"
      ],
      "metadata": {
        "id": "UsJrfRBep7qw"
      }
    },
    {
      "cell_type": "code",
      "source": [
        "#a number that contain both real and imaginary part can be called as comlex number for exp 4x+6y in this 4 and 6 are real numbers and x and y are imaginary.\n",
        "#in python we represent imaginary number by using j\n",
        "a= 5j+6j"
      ],
      "metadata": {
        "id": "LbqpelsBpus5"
      },
      "execution_count": 14,
      "outputs": []
    },
    {
      "cell_type": "code",
      "source": [
        "type(a)"
      ],
      "metadata": {
        "colab": {
          "base_uri": "https://localhost:8080/"
        },
        "id": "1SDnJMjUqkK4",
        "outputId": "81092973-1cfa-4e56-c03c-0bb1af4f30de"
      },
      "execution_count": 15,
      "outputs": [
        {
          "output_type": "execute_result",
          "data": {
            "text/plain": [
              "complex"
            ]
          },
          "metadata": {},
          "execution_count": 15
        }
      ]
    },
    {
      "cell_type": "markdown",
      "source": [
        "Q7. What is the correct way to declare a variable named age and assign the value 25 to it?"
      ],
      "metadata": {
        "id": "ynprg7Rxqtqh"
      }
    },
    {
      "cell_type": "code",
      "source": [
        "age= 25"
      ],
      "metadata": {
        "id": "OmiyClt8qlrn"
      },
      "execution_count": 16,
      "outputs": []
    },
    {
      "cell_type": "markdown",
      "source": [
        "Q8. Declare a variable named price and assign the value 9.99 to it. What data type does this variable\n",
        "belong to?"
      ],
      "metadata": {
        "id": "ooHHT3hcqzBA"
      }
    },
    {
      "cell_type": "code",
      "source": [
        "price= 9.99\n",
        "type(price)"
      ],
      "metadata": {
        "colab": {
          "base_uri": "https://localhost:8080/"
        },
        "id": "uYSv3B7_qyIg",
        "outputId": "63d9eb90-d1ef-4e58-f831-10c4f926172f"
      },
      "execution_count": 17,
      "outputs": [
        {
          "output_type": "execute_result",
          "data": {
            "text/plain": [
              "float"
            ]
          },
          "metadata": {},
          "execution_count": 17
        }
      ]
    },
    {
      "cell_type": "markdown",
      "source": [
        "Q9. Create a variable named name and assign your full name to it as a string. How would you print the\n",
        "value of this variable?"
      ],
      "metadata": {
        "id": "CQcvSv2NrI8H"
      }
    },
    {
      "cell_type": "code",
      "source": [
        "name='rajan singh'\n",
        "print(name)\n",
        "name"
      ],
      "metadata": {
        "colab": {
          "base_uri": "https://localhost:8080/",
          "height": 53
        },
        "id": "s6cQ8CfRqyL5",
        "outputId": "28590b3b-a507-4140-ee11-0101dc833fa2"
      },
      "execution_count": 19,
      "outputs": [
        {
          "output_type": "stream",
          "name": "stdout",
          "text": [
            "rajan singh\n"
          ]
        },
        {
          "output_type": "execute_result",
          "data": {
            "text/plain": [
              "'rajan singh'"
            ],
            "application/vnd.google.colaboratory.intrinsic+json": {
              "type": "string"
            }
          },
          "metadata": {},
          "execution_count": 19
        }
      ]
    },
    {
      "cell_type": "markdown",
      "source": [
        "Q10. Given the string \"Hello, World!\", extract the substring \"World\"."
      ],
      "metadata": {
        "id": "0EQjqR92rVL5"
      }
    },
    {
      "cell_type": "code",
      "source": [
        "string= 'hello,world!'\n",
        "(string[6:-1])"
      ],
      "metadata": {
        "colab": {
          "base_uri": "https://localhost:8080/",
          "height": 35
        },
        "id": "s_0elMJorRz-",
        "outputId": "5b0060c5-d279-4050-fafe-4a2283b33773"
      },
      "execution_count": 25,
      "outputs": [
        {
          "output_type": "execute_result",
          "data": {
            "text/plain": [
              "'world'"
            ],
            "application/vnd.google.colaboratory.intrinsic+json": {
              "type": "string"
            }
          },
          "metadata": {},
          "execution_count": 25
        }
      ]
    },
    {
      "cell_type": "markdown",
      "source": [
        "Q11. Create a variable named \"is_student\" and assign it a boolean value indicating whether you are\n",
        "currently a student or not."
      ],
      "metadata": {
        "id": "b8r_hv6DsEFo"
      }
    },
    {
      "cell_type": "code",
      "source": [
        "is_student= True"
      ],
      "metadata": {
        "id": "zalspNnesBYZ"
      },
      "execution_count": 26,
      "outputs": []
    }
  ]
}