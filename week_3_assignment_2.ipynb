{
  "nbformat": 4,
  "nbformat_minor": 0,
  "metadata": {
    "colab": {
      "provenance": [],
      "authorship_tag": "ABX9TyNmIYNAaGhiS/6Sc/0rRVjt",
      "include_colab_link": true
    },
    "kernelspec": {
      "name": "python3",
      "display_name": "Python 3"
    },
    "language_info": {
      "name": "python"
    }
  },
  "cells": [
    {
      "cell_type": "markdown",
      "metadata": {
        "id": "view-in-github",
        "colab_type": "text"
      },
      "source": [
        "<a href=\"https://colab.research.google.com/github/rajansingh387/assignments/blob/main/week_3_assignment_2.ipynb\" target=\"_parent\"><img src=\"https://colab.research.google.com/assets/colab-badge.svg\" alt=\"Open In Colab\"/></a>"
      ]
    },
    {
      "cell_type": "markdown",
      "source": [
        "Q1. Create a python program to sort the given list of tuples based on integer value using a\n",
        "lambda function.: [('Sachin Tendulkar', 34357), ('Ricky Ponting', 27483), ('Jack Kallis', 25534), ('Virat Kohli', 24936)]"
      ],
      "metadata": {
        "id": "3RJujOOabr8k"
      }
    },
    {
      "cell_type": "code",
      "source": [
        "a=[('Sachin Tendulkar', 34357), ('Ricky Ponting', 27483), ('Jack Kallis', 25534), ('Virat Kohli', 24936)]"
      ],
      "metadata": {
        "id": "0f0a5LPIdhrv"
      },
      "execution_count": 63,
      "outputs": []
    },
    {
      "cell_type": "code",
      "source": [
        "sorted_list1= sorted(a,key=lambda x:x[1])\n",
        "sorted_list1"
      ],
      "metadata": {
        "colab": {
          "base_uri": "https://localhost:8080/"
        },
        "id": "CIWO3IbpglaT",
        "outputId": "d9c27aa4-2730-4939-a0e8-ecc9cdc41fb3"
      },
      "execution_count": 67,
      "outputs": [
        {
          "output_type": "execute_result",
          "data": {
            "text/plain": [
              "[('Virat Kohli', 24936),\n",
              " ('Jack Kallis', 25534),\n",
              " ('Ricky Ponting', 27483),\n",
              " ('Sachin Tendulkar', 34357)]"
            ]
          },
          "metadata": {},
          "execution_count": 67
        }
      ]
    },
    {
      "cell_type": "markdown",
      "source": [
        "Q2. Write a Python Program to find the squares of all the numbers in the given list of integers using\n",
        "lambda and map functions.\n",
        "[1, 2, 3, 4, 5, 6, 7, 8, 9, 10]"
      ],
      "metadata": {
        "id": "GavH7viUhRY9"
      }
    },
    {
      "cell_type": "code",
      "source": [
        "b=  [1, 2, 3, 4, 5, 6, 7, 8, 9, 10]\n",
        "sq= lambda x: x**2\n",
        "list(map(sq,b))"
      ],
      "metadata": {
        "colab": {
          "base_uri": "https://localhost:8080/"
        },
        "id": "JGZYFyAUhQ1f",
        "outputId": "d5a8e831-fbeb-43b2-f1df-474095d05a00"
      },
      "execution_count": 8,
      "outputs": [
        {
          "output_type": "execute_result",
          "data": {
            "text/plain": [
              "[1, 4, 9, 16, 25, 36, 49, 64, 81, 100]"
            ]
          },
          "metadata": {},
          "execution_count": 8
        }
      ]
    },
    {
      "cell_type": "markdown",
      "source": [
        "Q3. Write a python program to convert the given list of integers into a tuple of strings. Use map and\n",
        "lambda functions\n",
        "\n",
        "\n",
        "Given String: [1, 2, 3, 4, 5, 6, 7, 8, 9, 10]\n",
        "Expected output: ('1', '2', '3', '4', '5', '6', '7', '8', '9', '10')"
      ],
      "metadata": {
        "id": "9pRX3kAHkGe0"
      }
    },
    {
      "cell_type": "code",
      "source": [
        "c=  [1, 2, 3, 4, 5, 6, 7, 8, 9, 10]\n"
      ],
      "metadata": {
        "id": "HUKDKq2kj9uD"
      },
      "execution_count": 20,
      "outputs": []
    },
    {
      "cell_type": "code",
      "source": [
        "str_l= lambda x: str(x)\n",
        "str_l= list(map(str_l,c))"
      ],
      "metadata": {
        "id": "sPPGmvyjkZVD"
      },
      "execution_count": 21,
      "outputs": []
    },
    {
      "cell_type": "code",
      "source": [
        "str_l"
      ],
      "metadata": {
        "colab": {
          "base_uri": "https://localhost:8080/"
        },
        "id": "ny7tU_JKknik",
        "outputId": "d5eaa4c6-d756-4390-a9cc-274dfbafb033"
      },
      "execution_count": 22,
      "outputs": [
        {
          "output_type": "execute_result",
          "data": {
            "text/plain": [
              "['1', '2', '3', '4', '5', '6', '7', '8', '9', '10']"
            ]
          },
          "metadata": {},
          "execution_count": 22
        }
      ]
    },
    {
      "cell_type": "markdown",
      "source": [
        "Q4. Write a python program using reduce function to compute the product of a list containing numbers\n",
        "from 1 to 25.\n"
      ],
      "metadata": {
        "id": "qoWDI-4hkuJM"
      }
    },
    {
      "cell_type": "code",
      "source": [
        "from functools import reduce"
      ],
      "metadata": {
        "id": "hIVpisAdkoh0"
      },
      "execution_count": 23,
      "outputs": []
    },
    {
      "cell_type": "code",
      "source": [
        "d= list(range(1,26))"
      ],
      "metadata": {
        "id": "Bb66_9Y3k0iL"
      },
      "execution_count": 29,
      "outputs": []
    },
    {
      "cell_type": "code",
      "source": [
        "print(d,end=',')"
      ],
      "metadata": {
        "colab": {
          "base_uri": "https://localhost:8080/"
        },
        "id": "i_oXtEBbk5gM",
        "outputId": "062222f8-0160-46ae-8226-5b5295245ab5"
      },
      "execution_count": 30,
      "outputs": [
        {
          "output_type": "stream",
          "name": "stdout",
          "text": [
            "[1, 2, 3, 4, 5, 6, 7, 8, 9, 10, 11, 12, 13, 14, 15, 16, 17, 18, 19, 20, 21, 22, 23, 24, 25],"
          ]
        }
      ]
    },
    {
      "cell_type": "code",
      "source": [
        "red= reduce(lambda x,y: x*y,d)"
      ],
      "metadata": {
        "id": "w1VTOOpOlD4E"
      },
      "execution_count": 34,
      "outputs": []
    },
    {
      "cell_type": "code",
      "source": [
        "red"
      ],
      "metadata": {
        "colab": {
          "base_uri": "https://localhost:8080/"
        },
        "id": "MBBgx8ColMuN",
        "outputId": "9316ec93-3dad-40de-c2a7-870a83356eb8"
      },
      "execution_count": 35,
      "outputs": [
        {
          "output_type": "execute_result",
          "data": {
            "text/plain": [
              "15511210043330985984000000"
            ]
          },
          "metadata": {},
          "execution_count": 35
        }
      ]
    },
    {
      "cell_type": "markdown",
      "source": [
        "Q5. Write a python program to filter the numbers in a given list that are divisible by 2 and 3 using the\n",
        "filter function.\n",
        "[2, 3, 6, 9, 27, 60, 90, 120, 55, 46]"
      ],
      "metadata": {
        "id": "28uDAzRZllDk"
      }
    },
    {
      "cell_type": "code",
      "source": [
        "e=[2, 3, 6, 9, 27, 60, 90, 120, 55, 46]\n",
        "fil= list(filter(lambda x: x%2==0 and x%3==0,e))\n"
      ],
      "metadata": {
        "id": "oK6-l4IklrSF"
      },
      "execution_count": 43,
      "outputs": []
    },
    {
      "cell_type": "code",
      "source": [
        "print(fil)"
      ],
      "metadata": {
        "colab": {
          "base_uri": "https://localhost:8080/"
        },
        "id": "2-eaihFumlt8",
        "outputId": "3cdba656-4163-4029-a435-51bad7a9c2a1"
      },
      "execution_count": 44,
      "outputs": [
        {
          "output_type": "stream",
          "name": "stdout",
          "text": [
            "[6, 60, 90, 120]\n"
          ]
        }
      ]
    },
    {
      "cell_type": "markdown",
      "source": [
        "Q6. Write a python program to find palindromes in the given list of strings using lambda and filter\n",
        "function.\n",
        "['python', 'php', 'aba', 'radar', 'level']"
      ],
      "metadata": {
        "id": "8LkQAN6vmyM0"
      }
    },
    {
      "cell_type": "code",
      "source": [
        "f= ['python', 'php', 'aba', 'radar', 'level']"
      ],
      "metadata": {
        "id": "mT--e1IPm0Ed"
      },
      "execution_count": 45,
      "outputs": []
    },
    {
      "cell_type": "code",
      "source": [
        "fil2= list(filter(lambda x:x[::-1]==x,f))"
      ],
      "metadata": {
        "id": "u5wnTKuAm6a0"
      },
      "execution_count": 46,
      "outputs": []
    },
    {
      "cell_type": "code",
      "source": [
        "fil2"
      ],
      "metadata": {
        "colab": {
          "base_uri": "https://localhost:8080/"
        },
        "id": "iUfGsYkRnL2k",
        "outputId": "ed92548c-54f6-4f43-aafa-600cad05909c"
      },
      "execution_count": 47,
      "outputs": [
        {
          "output_type": "execute_result",
          "data": {
            "text/plain": [
              "['php', 'aba', 'radar', 'level']"
            ]
          },
          "metadata": {},
          "execution_count": 47
        }
      ]
    },
    {
      "cell_type": "code",
      "source": [],
      "metadata": {
        "id": "iJKoHHy6nOAz"
      },
      "execution_count": null,
      "outputs": []
    }
  ]
}