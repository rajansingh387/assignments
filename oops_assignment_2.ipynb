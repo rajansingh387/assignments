{
  "nbformat": 4,
  "nbformat_minor": 0,
  "metadata": {
    "colab": {
      "provenance": [],
      "authorship_tag": "ABX9TyPebjJvqsRs3N7pnULsmqcL",
      "include_colab_link": true
    },
    "kernelspec": {
      "name": "python3",
      "display_name": "Python 3"
    },
    "language_info": {
      "name": "python"
    }
  },
  "cells": [
    {
      "cell_type": "markdown",
      "metadata": {
        "id": "view-in-github",
        "colab_type": "text"
      },
      "source": [
        "<a href=\"https://colab.research.google.com/github/rajansingh387/assignments/blob/main/oops_assignment_2.ipynb\" target=\"_parent\"><img src=\"https://colab.research.google.com/assets/colab-badge.svg\" alt=\"Open In Colab\"/></a>"
      ]
    },
    {
      "cell_type": "markdown",
      "source": [
        "Q1. What is Abstraction in OOps? Explain with an example.\n"
      ],
      "metadata": {
        "id": "PLb5oqbGMQur"
      }
    },
    {
      "cell_type": "markdown",
      "source": [
        "abstraction in oops is used to hide complex information from the end user main concept of abstraction is to show only what is usefull and hide complex,hard to understand technicality.\n",
        "for example instead of showing the code of how a game character moves just giving a button to move it"
      ],
      "metadata": {
        "id": "CoYmKwp3MSsa"
      }
    },
    {
      "cell_type": "code",
      "source": [
        "from abc import ABC, abstractmethod\n",
        "\n",
        "class RemoteControl(ABC):\n",
        "    @abstractmethod\n",
        "    def move_forward(self):\n",
        "        pass\n",
        "\n",
        "    @abstractmethod\n",
        "    def move_backward(self):\n",
        "        pass\n",
        "\n",
        "    @abstractmethod\n",
        "    def turn_left(self):\n",
        "        pass\n",
        "\n",
        "    @abstractmethod\n",
        "    def turn_right(self):\n",
        "        pass\n",
        "\n",
        "class RemoteControlCar(RemoteControl):\n",
        "    def move_forward(self):\n",
        "        print(\"Car moving forward\")\n",
        "\n",
        "    def move_backward(self):\n",
        "        print(\"Car moving backward\")\n",
        "\n",
        "    def turn_left(self):\n",
        "        print(\"Car turning left\")\n",
        "\n",
        "    def turn_right(self):\n",
        "        print(\"Car turning right\")\n",
        "\n",
        "\n",
        "car = RemoteControlCar()\n",
        "\n",
        "# Now, you can control the car without worrying about the internal mechanics\n",
        "car.move_forward()\n",
        "car.turn_left()\n",
        "car.move_backward()\n",
        "car.turn_right()\n"
      ],
      "metadata": {
        "colab": {
          "base_uri": "https://localhost:8080/"
        },
        "id": "wVeYhJIEO-AU",
        "outputId": "f4b4c055-89fa-4c45-f041-ac523d7a5442"
      },
      "execution_count": 3,
      "outputs": [
        {
          "output_type": "stream",
          "name": "stdout",
          "text": [
            "Car moving forward\n",
            "Car turning left\n",
            "Car moving backward\n",
            "Car turning right\n"
          ]
        }
      ]
    },
    {
      "cell_type": "markdown",
      "source": [
        "Q2. Differentiate between Abstraction and Encapsulation. Explain with an example."
      ],
      "metadata": {
        "id": "KFJn9Ia-PhtS"
      }
    },
    {
      "cell_type": "markdown",
      "source": [
        "abstraction and encapsulation we use both to hide something but we use abstraction to hide complex infomation its main goal is to simplify user eperience  for example- gear in a bike,\n",
        "encapsulation is used to hide a very important feature its end goal is to restrict user from using private data which can harm the organization for example- we can use encapsulation to restrict direct access to account balance because someone can change it.\n",
        "\n"
      ],
      "metadata": {
        "id": "Ep-0GwUcPklC"
      }
    },
    {
      "cell_type": "code",
      "source": [
        "#example of encapsulation\n",
        "class bank_account:\n",
        "  def __init__(self,account, name):\n",
        "    self.name= name\n",
        "    self.account_num= account\n",
        "    self.current_amount=0\n",
        "\n",
        "  def add_balance(self,deposit_ammount):\n",
        "    self.current_amount= self.current_amount+deposit_ammount\n",
        "\n",
        "  def show_balance(self):\n",
        "    return self.current_amount\n",
        "\n",
        "rajan= bank_account(1234567,'rajan')\n",
        "rajan.add_balance(3000)\n",
        "print(rajan.show_balance())\n",
        "\n",
        "# now because current amount is visible i can access it directly and i will become crorepati\n",
        "rajan.current_amount=10000000\n",
        "print(rajan.show_balance())\n"
      ],
      "metadata": {
        "colab": {
          "base_uri": "https://localhost:8080/"
        },
        "id": "0I5kaJMTPguS",
        "outputId": "377ed627-e972-4ff2-c295-97a8bf69f996"
      },
      "execution_count": 17,
      "outputs": [
        {
          "output_type": "stream",
          "name": "stdout",
          "text": [
            "3000\n",
            "10000000\n"
          ]
        }
      ]
    },
    {
      "cell_type": "code",
      "source": [
        "class bank_account:\n",
        "  def __init__(self,account, name):\n",
        "    self.name= name\n",
        "    self.account_num= account\n",
        "    self.__current_amount=0\n",
        "\n",
        "  def add_balance(self,deposit_ammount):\n",
        "    self.__current_amount= self.__current_amount+deposit_ammount\n",
        "\n",
        "  def show_balance(self):\n",
        "    return self.__current_amount\n",
        "\n",
        "rajan= bank_account(1234567,'rajan')\n",
        "rajan.add_balance(3000)\n",
        "print(rajan.show_balance())\n",
        "\n",
        "# but now i can's do it\n",
        "rajan.current_amount=10000000\n",
        "print(rajan.show_balance())\n",
        "\n",
        "#to do it now one should now the name of class and variable name both\n",
        "rajan._bank_account__current_amount=100000000\n",
        "print(rajan.show_balance())\n"
      ],
      "metadata": {
        "colab": {
          "base_uri": "https://localhost:8080/"
        },
        "id": "9GTdT-4KS9l4",
        "outputId": "da9b9e80-49b8-4331-9901-f569e4ad9471"
      },
      "execution_count": 23,
      "outputs": [
        {
          "output_type": "stream",
          "name": "stdout",
          "text": [
            "3000\n",
            "3000\n",
            "100000000\n"
          ]
        }
      ]
    },
    {
      "cell_type": "markdown",
      "source": [
        "Q3. What is abc module in python? Why is it used?\n",
        "\n",
        "the abc module helps make sure that classes follow specific rules. it ia like a blueprint that says(if you want to use me, you must have these methods in your class) This keeps code organized and makes sure different classes work well together.\n",
        "abc module is used to do abstraction,to maintain a common interface and structure, and to achive polymorphism.\n"
      ],
      "metadata": {
        "id": "OTR5dymyUWID"
      }
    },
    {
      "cell_type": "markdown",
      "source": [
        "Q4. How can we achieve data abstraction?\n",
        "\n",
        "data abstraction is achieved by hiding complex details and showing only the necessary parts of an code or a machine or anything else. It's like using a TV remote you don't need to know how the volume button works you only see the buttons you use. in programming, you create classes that expose only essential information and hide the inner workings. this makes it easier to use and understand the object, like driving a car without knowing what is the work of an engine."
      ],
      "metadata": {
        "id": "PyG-YlLOVXxT"
      }
    },
    {
      "cell_type": "code",
      "source": [
        "\n",
        "#no, you cannot create an instance of an abstract class directly.abstract classes are like templates that need specific details filled in by their subclasses.\n",
        "#You can't create an instance of a template .because it's incomplete.\n",
        "\n",
        "class absclass(ABC):\n",
        "    @abstractmethod\n",
        "    def wow(self):\n",
        "        pass\n",
        "\n",
        "class secondclass(absclass):\n",
        "    def wow(self):\n",
        "        print(\"yuhooooo\")\n",
        "\n",
        "\n",
        "obj = secondclass()\n",
        "obj.wow()\n"
      ],
      "metadata": {
        "colab": {
          "base_uri": "https://localhost:8080/"
        },
        "id": "Ek2HIb1NWRc7",
        "outputId": "524e6986-63b8-43fb-edcb-628368709c06"
      },
      "execution_count": 25,
      "outputs": [
        {
          "output_type": "stream",
          "name": "stdout",
          "text": [
            "yuhooooo\n"
          ]
        }
      ]
    },
    {
      "cell_type": "code",
      "source": [
        "obj1 = absclass()\n",
        "obj.wow()"
      ],
      "metadata": {
        "colab": {
          "base_uri": "https://localhost:8080/",
          "height": 193
        },
        "id": "TbsMfc8nWrWB",
        "outputId": "7d465c6a-d3cb-43d1-a187-910c1b66a034"
      },
      "execution_count": 26,
      "outputs": [
        {
          "output_type": "error",
          "ename": "TypeError",
          "evalue": "ignored",
          "traceback": [
            "\u001b[0;31m---------------------------------------------------------------------------\u001b[0m",
            "\u001b[0;31mTypeError\u001b[0m                                 Traceback (most recent call last)",
            "\u001b[0;32m<ipython-input-26-cb900a827492>\u001b[0m in \u001b[0;36m<cell line: 1>\u001b[0;34m()\u001b[0m\n\u001b[0;32m----> 1\u001b[0;31m \u001b[0mobj1\u001b[0m \u001b[0;34m=\u001b[0m \u001b[0mabsclass\u001b[0m\u001b[0;34m(\u001b[0m\u001b[0;34m)\u001b[0m\u001b[0;34m\u001b[0m\u001b[0;34m\u001b[0m\u001b[0m\n\u001b[0m\u001b[1;32m      2\u001b[0m \u001b[0mobj\u001b[0m\u001b[0;34m.\u001b[0m\u001b[0mwow\u001b[0m\u001b[0;34m(\u001b[0m\u001b[0;34m)\u001b[0m\u001b[0;34m\u001b[0m\u001b[0;34m\u001b[0m\u001b[0m\n",
            "\u001b[0;31mTypeError\u001b[0m: Can't instantiate abstract class absclass with abstract method wow"
          ]
        }
      ]
    }
  ]
}