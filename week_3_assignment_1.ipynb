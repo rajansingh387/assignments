{
  "nbformat": 4,
  "nbformat_minor": 0,
  "metadata": {
    "colab": {
      "provenance": [],
      "authorship_tag": "ABX9TyPNgCCURlYagyhZLPstka7R",
      "include_colab_link": true
    },
    "kernelspec": {
      "name": "python3",
      "display_name": "Python 3"
    },
    "language_info": {
      "name": "python"
    }
  },
  "cells": [
    {
      "cell_type": "markdown",
      "metadata": {
        "id": "view-in-github",
        "colab_type": "text"
      },
      "source": [
        "<a href=\"https://colab.research.google.com/github/rajansingh387/assignments/blob/main/week_3_assignment_1.ipynb\" target=\"_parent\"><img src=\"https://colab.research.google.com/assets/colab-badge.svg\" alt=\"Open In Colab\"/></a>"
      ]
    },
    {
      "cell_type": "markdown",
      "source": [
        "Q1. Which keyword is used to create a function? Create a function to return a list of odd numbers in the\n",
        "range of 1 to 25."
      ],
      "metadata": {
        "id": "eW0jKIFVqHDA"
      }
    },
    {
      "cell_type": "code",
      "source": [
        "def find_odd(n):\n",
        "  odd=[]\n",
        "  for i in range(n+1):\n",
        "    if i %2==0:\n",
        "      continue\n",
        "    else:\n",
        "      odd.append(i)\n",
        "  return odd"
      ],
      "metadata": {
        "id": "cyuvtincqGS5"
      },
      "execution_count": null,
      "outputs": []
    },
    {
      "cell_type": "code",
      "source": [
        "find_odd(25)"
      ],
      "metadata": {
        "colab": {
          "base_uri": "https://localhost:8080/"
        },
        "id": "MSQLnMC2qXV4",
        "outputId": "638ff637-d825-4624-e3f7-4c6a2142d772"
      },
      "execution_count": null,
      "outputs": [
        {
          "output_type": "execute_result",
          "data": {
            "text/plain": [
              "[1, 3, 5, 7, 9, 11, 13, 15, 17, 19, 21, 23, 25]"
            ]
          },
          "metadata": {},
          "execution_count": 8
        }
      ]
    },
    {
      "cell_type": "markdown",
      "source": [
        "Q2. Why *args and **kwargs is used in some functions? Create a function each for *args and **kwargs\n",
        "to demonstrate their use."
      ],
      "metadata": {
        "id": "_TslFN4dq94I"
      }
    },
    {
      "cell_type": "code",
      "source": [
        "# when you are unsure about how many arrgument you have to pass to get desired result you can use args or kwargs\n",
        "def raj(a,b,*args):\n",
        "  total= 0\n",
        "  for i in args:\n",
        "    total= total+i\n",
        "  return total+a+b"
      ],
      "metadata": {
        "id": "kGGwSAvxq83C"
      },
      "execution_count": null,
      "outputs": []
    },
    {
      "cell_type": "code",
      "source": [
        "raj(1,2,4,5)"
      ],
      "metadata": {
        "colab": {
          "base_uri": "https://localhost:8080/"
        },
        "id": "fm5W_kpZreHy",
        "outputId": "333ee5a4-84f9-4947-97ea-687e24a7050d"
      },
      "execution_count": null,
      "outputs": [
        {
          "output_type": "execute_result",
          "data": {
            "text/plain": [
              "12"
            ]
          },
          "metadata": {},
          "execution_count": 18
        }
      ]
    },
    {
      "cell_type": "code",
      "source": [
        "raj(1,2,3,4,5,6,7,8,9,10)"
      ],
      "metadata": {
        "colab": {
          "base_uri": "https://localhost:8080/"
        },
        "id": "DAQPwqPCrf0v",
        "outputId": "2cf1635b-089d-435f-a66b-2147b9c2bd47"
      },
      "execution_count": null,
      "outputs": [
        {
          "output_type": "execute_result",
          "data": {
            "text/plain": [
              "55"
            ]
          },
          "metadata": {},
          "execution_count": 19
        }
      ]
    },
    {
      "cell_type": "code",
      "source": [
        "def itsmeiguess(a,b,**kwargs):\n",
        "  print(a,b)\n",
        "  print(kwargs)"
      ],
      "metadata": {
        "id": "cJJ7iNdgs1Di"
      },
      "execution_count": null,
      "outputs": []
    },
    {
      "cell_type": "code",
      "source": [
        "itsmeiguess('rajan','piyush',helo='welcome',home='is where you have family')"
      ],
      "metadata": {
        "colab": {
          "base_uri": "https://localhost:8080/"
        },
        "id": "7_--R-MxtIbv",
        "outputId": "3f92deb2-c069-47b6-e192-133681e50b43"
      },
      "execution_count": null,
      "outputs": [
        {
          "output_type": "stream",
          "name": "stdout",
          "text": [
            "rajan piyush\n",
            "{'helo': 'welcome', 'home': 'is where you have family'}\n"
          ]
        }
      ]
    },
    {
      "cell_type": "code",
      "source": [
        "def itsmeiguess(**kwargs):\n",
        "  for i,j in kwargs.items():\n",
        "    print(i+\":\"+j)"
      ],
      "metadata": {
        "id": "egyReYD-u6c5"
      },
      "execution_count": null,
      "outputs": []
    },
    {
      "cell_type": "code",
      "source": [
        "itsmeiguess(helo='welcome',home='is where you have family')"
      ],
      "metadata": {
        "colab": {
          "base_uri": "https://localhost:8080/"
        },
        "id": "DHoT84pntVMH",
        "outputId": "539df44d-f952-43d2-bdd4-e3c2d8c82a36"
      },
      "execution_count": null,
      "outputs": [
        {
          "output_type": "stream",
          "name": "stdout",
          "text": [
            "helo:welcome\n",
            "home:is where you have family\n"
          ]
        }
      ]
    },
    {
      "cell_type": "markdown",
      "source": [
        "Q3. What is an iterator in python? Name the method used to initialise the iterator object and the method\n",
        "used for iteration. Use these methods to print the first five elements of the given list [2, 4, 6, 8, 10, 12, 14,\n",
        "16, 18, 20]."
      ],
      "metadata": {
        "id": "CQr8t-s8v5mY"
      }
    },
    {
      "cell_type": "code",
      "source": [
        "#iterator is a function that allows you to iterate on a given data collection,to initialise the iterator we use iter( ) and next() fuction for exp\n",
        "a='rajan'\n",
        "a=iter(a)\n",
        "print(next(a))\n",
        "print(next(a))\n",
        "print(next(a))\n",
        "print(next(a))\n",
        "print(next(a))"
      ],
      "metadata": {
        "colab": {
          "base_uri": "https://localhost:8080/"
        },
        "id": "cZRwhEnMwIOw",
        "outputId": "011d4913-f06e-4329-e6f9-29c209cea2c0"
      },
      "execution_count": null,
      "outputs": [
        {
          "output_type": "stream",
          "name": "stdout",
          "text": [
            "r\n",
            "a\n",
            "j\n",
            "a\n",
            "n\n"
          ]
        }
      ]
    },
    {
      "cell_type": "code",
      "source": [
        "# by using iter , and next func\n",
        "li= [2, 4, 6, 8, 10, 12, 14, 16, 18, 20]\n",
        "li= iter(li)\n",
        "for i in range(5):\n",
        "  print(next(li))\n"
      ],
      "metadata": {
        "colab": {
          "base_uri": "https://localhost:8080/"
        },
        "id": "oizPZWzWxM0g",
        "outputId": "cc02ba91-aa99-468a-f89d-1129d0dc037e"
      },
      "execution_count": null,
      "outputs": [
        {
          "output_type": "stream",
          "name": "stdout",
          "text": [
            "2\n",
            "4\n",
            "6\n",
            "8\n",
            "10\n"
          ]
        }
      ]
    },
    {
      "cell_type": "code",
      "source": [
        "# by using while loop\n",
        "li= [2, 4, 6, 8, 10, 12, 14, 16, 18, 20]\n",
        "i= 0\n",
        "while i<5:\n",
        "  print(li[i])\n",
        "  i=i+1"
      ],
      "metadata": {
        "colab": {
          "base_uri": "https://localhost:8080/"
        },
        "id": "xt703gHmx94N",
        "outputId": "2fc0e0d3-63ca-4a8f-85db-5168b6dcf239"
      },
      "execution_count": null,
      "outputs": [
        {
          "output_type": "stream",
          "name": "stdout",
          "text": [
            "2\n",
            "4\n",
            "6\n",
            "8\n",
            "10\n"
          ]
        }
      ]
    },
    {
      "cell_type": "code",
      "source": [
        "li= [2, 4, 6, 8, 10, 12, 14, 16, 18, 20]\n",
        "for i in li[:5]:\n",
        "  print(i)\n",
        "#using for loop\n"
      ],
      "metadata": {
        "colab": {
          "base_uri": "https://localhost:8080/"
        },
        "id": "Ll_EXusoyXp4",
        "outputId": "3114b052-1bbf-46b5-caf4-2bde99277814"
      },
      "execution_count": null,
      "outputs": [
        {
          "output_type": "stream",
          "name": "stdout",
          "text": [
            "2\n",
            "4\n",
            "6\n",
            "8\n",
            "10\n"
          ]
        }
      ]
    },
    {
      "cell_type": "markdown",
      "source": [
        "Q4. What is a generator function in python? Why yield keyword is used? Give an example of a generator\n",
        "function."
      ],
      "metadata": {
        "id": "0dCdHksnzCDY"
      }
    },
    {
      "cell_type": "code",
      "source": [
        "'''in a generator func we use yield instead of return, generator function dosent consume too much memory.\n",
        "They do not store the entire sequence in memory, while Normal functions, store the entire result in memory.'''"
      ],
      "metadata": {
        "colab": {
          "base_uri": "https://localhost:8080/",
          "height": 53
        },
        "id": "qNbpsJlXzEMX",
        "outputId": "cedb38f0-b71a-4547-a9dd-0d76c4122790"
      },
      "execution_count": 140,
      "outputs": [
        {
          "output_type": "execute_result",
          "data": {
            "text/plain": [
              "'in a generator func we use yield instead of return, generator function dosent consume too much memory.\\nThey do not store the entire sequence in memory, while Normal functions, store the entire result in memory.'"
            ],
            "application/vnd.google.colaboratory.intrinsic+json": {
              "type": "string"
            }
          },
          "metadata": {},
          "execution_count": 140
        }
      ]
    },
    {
      "cell_type": "code",
      "source": [
        "def count(n):\n",
        "    result = []\n",
        "    for i in range(1, n + 1):\n",
        "        result.append(i)\n",
        "    return result\n",
        "#normal func\n"
      ],
      "metadata": {
        "id": "4VkqDmpfOLEN"
      },
      "execution_count": null,
      "outputs": []
    },
    {
      "cell_type": "code",
      "source": [
        "count(10)"
      ],
      "metadata": {
        "colab": {
          "base_uri": "https://localhost:8080/"
        },
        "id": "tzraRGlHOXwM",
        "outputId": "0a0fb926-938c-485a-be3b-a64a7b716828"
      },
      "execution_count": null,
      "outputs": [
        {
          "output_type": "execute_result",
          "data": {
            "text/plain": [
              "[1, 2, 3, 4, 5, 6, 7, 8, 9, 10]"
            ]
          },
          "metadata": {},
          "execution_count": 6
        }
      ]
    },
    {
      "cell_type": "code",
      "source": [
        "def count(n):\n",
        "    for i in range(1, n + 1):\n",
        "        yield i\n",
        "#generator func\n"
      ],
      "metadata": {
        "id": "44yHmctFONJl"
      },
      "execution_count": null,
      "outputs": []
    },
    {
      "cell_type": "code",
      "source": [
        "c=count(10)"
      ],
      "metadata": {
        "id": "lONPuT1gOk-c"
      },
      "execution_count": null,
      "outputs": []
    },
    {
      "cell_type": "code",
      "source": [
        "for i in c:\n",
        "  print(i)"
      ],
      "metadata": {
        "colab": {
          "base_uri": "https://localhost:8080/"
        },
        "id": "OblN0qDNOmsz",
        "outputId": "4d257aba-bb5a-480b-d97c-682d3b57502a"
      },
      "execution_count": null,
      "outputs": [
        {
          "output_type": "stream",
          "name": "stdout",
          "text": [
            "1\n",
            "2\n",
            "3\n",
            "4\n",
            "5\n",
            "6\n",
            "7\n",
            "8\n",
            "9\n",
            "10\n"
          ]
        }
      ]
    },
    {
      "cell_type": "code",
      "source": [
        "c= list(c)"
      ],
      "metadata": {
        "id": "OZONp2CdPIVc"
      },
      "execution_count": null,
      "outputs": []
    },
    {
      "cell_type": "code",
      "source": [
        "c"
      ],
      "metadata": {
        "colab": {
          "base_uri": "https://localhost:8080/"
        },
        "id": "q449YqqvPNV0",
        "outputId": "0e83f816-f482-4f50-f440-2add95830c56"
      },
      "execution_count": null,
      "outputs": [
        {
          "output_type": "execute_result",
          "data": {
            "text/plain": [
              "[1, 2, 3, 4, 5, 6, 7, 8, 9, 10]"
            ]
          },
          "metadata": {},
          "execution_count": 21
        }
      ]
    },
    {
      "cell_type": "markdown",
      "source": [
        "Q5. Create a generator function for prime numbers less than 1000. Use the next() method to print the\n",
        "first 20 prime numbers."
      ],
      "metadata": {
        "id": "fYYKTTjMPWIL"
      }
    },
    {
      "cell_type": "code",
      "source": [
        "def primenum(n):\n",
        "  for i in range(2,n):\n",
        "    for j in range(2,i):\n",
        "      if i%j==0:\n",
        "        break\n",
        "    else:\n",
        "        yield i\n",
        "\n",
        "pm=primenum(1000)\n",
        "for i in range(20):\n",
        "  print(next(pm))"
      ],
      "metadata": {
        "id": "spYuDHMEPVeM",
        "colab": {
          "base_uri": "https://localhost:8080/"
        },
        "outputId": "5f553301-958b-432f-85e4-12df09915593"
      },
      "execution_count": 68,
      "outputs": [
        {
          "output_type": "stream",
          "name": "stdout",
          "text": [
            "2\n",
            "3\n",
            "5\n",
            "7\n",
            "11\n",
            "13\n",
            "17\n",
            "19\n",
            "23\n",
            "29\n",
            "31\n",
            "37\n",
            "41\n",
            "43\n",
            "47\n",
            "53\n",
            "59\n",
            "61\n",
            "67\n",
            "71\n"
          ]
        }
      ]
    },
    {
      "cell_type": "code",
      "source": [
        "pm=primenum(100)"
      ],
      "metadata": {
        "id": "P2mq2qXzPVhT"
      },
      "execution_count": 53,
      "outputs": []
    },
    {
      "cell_type": "markdown",
      "source": [
        "Q6. Write a python program to print the first 10 Fibonacci numbers using a while loop."
      ],
      "metadata": {
        "id": "Rzc-Ky0cZfcC"
      }
    },
    {
      "cell_type": "code",
      "source": [
        "def fibo(n):\n",
        "  i=0\n",
        "  a,b=0,1\n",
        "  while i<n:\n",
        "    yield a\n",
        "    a,b= b,b+a\n",
        "    i=i+1\n",
        "  return"
      ],
      "metadata": {
        "id": "XKV9qEw9ZbqK"
      },
      "execution_count": 98,
      "outputs": []
    },
    {
      "cell_type": "code",
      "source": [
        "fib=fibo(10)"
      ],
      "metadata": {
        "id": "1GBqgpVmaDYQ"
      },
      "execution_count": 99,
      "outputs": []
    },
    {
      "cell_type": "code",
      "source": [
        "for i in fib:\n",
        "  print(i,end=',')"
      ],
      "metadata": {
        "colab": {
          "base_uri": "https://localhost:8080/"
        },
        "id": "wFH_fA2FaGpT",
        "outputId": "fdf72c53-f056-42a5-aa05-d051c82bc6f6"
      },
      "execution_count": 100,
      "outputs": [
        {
          "output_type": "stream",
          "name": "stdout",
          "text": [
            "0,1,1,2,3,5,8,13,21,34,"
          ]
        }
      ]
    },
    {
      "cell_type": "markdown",
      "source": [
        "Q7. Write a List Comprehension to iterate through the given string: ‘pwskills’.\n",
        "Expected output: ['p', 'w', 's', 'k', 'i', 'l', 'l', 's']"
      ],
      "metadata": {
        "id": "6RjC2RhoahtH"
      }
    },
    {
      "cell_type": "code",
      "source": [
        "st = 'pwskills'\n",
        "ls = [i for i in st]\n",
        "print(ls)\n"
      ],
      "metadata": {
        "colab": {
          "base_uri": "https://localhost:8080/"
        },
        "id": "qTo6uI24aMbw",
        "outputId": "737498c4-627c-4b01-8e6e-6427eeea0d25"
      },
      "execution_count": 88,
      "outputs": [
        {
          "output_type": "stream",
          "name": "stdout",
          "text": [
            "['p', 'w', 's', 'k', 'i', 'l', 'l', 's']\n"
          ]
        }
      ]
    },
    {
      "cell_type": "markdown",
      "source": [
        "Q8. Write a python program to check whether a given number is Palindrome or not using a while loop."
      ],
      "metadata": {
        "id": "RBE5RUg1cYE4"
      }
    },
    {
      "cell_type": "code",
      "source": [
        "def check_pal(a):\n",
        "  original= str(a)\n",
        "  reverse= str(a)[::-1]\n",
        "  print(reverse)\n",
        "  if original==reverse:\n",
        "    print('it is palindrome')\n",
        "  else:\n",
        "    print('it is not')"
      ],
      "metadata": {
        "id": "UKrzCphVeA0B"
      },
      "execution_count": 127,
      "outputs": []
    },
    {
      "cell_type": "code",
      "source": [
        "a= int(input())\n",
        "check_pal(a)"
      ],
      "metadata": {
        "colab": {
          "base_uri": "https://localhost:8080/"
        },
        "id": "mDpROj2qeY3-",
        "outputId": "82dabd54-1b26-4186-b997-e1da30153e4d"
      },
      "execution_count": 128,
      "outputs": [
        {
          "output_type": "stream",
          "name": "stdout",
          "text": [
            "1001\n",
            "1001\n",
            "it is palindrome\n"
          ]
        }
      ]
    },
    {
      "cell_type": "markdown",
      "source": [
        "Q9. Write a code to print odd numbers from 1 to 100 using list comprehension.\n",
        "Note: Use a list comprehension to create a list from 1 to 100 and use another List comprehension to filter\n",
        "out odd numbers."
      ],
      "metadata": {
        "id": "Zh73JkDlfr2Z"
      }
    },
    {
      "cell_type": "code",
      "source": [
        "l= [i for i in range(100)]"
      ],
      "metadata": {
        "id": "QRO6-HFHftUp"
      },
      "execution_count": 134,
      "outputs": []
    },
    {
      "cell_type": "code",
      "source": [
        "print(l,end='')"
      ],
      "metadata": {
        "colab": {
          "base_uri": "https://localhost:8080/"
        },
        "id": "SlhuFD9kf17y",
        "outputId": "268f73f7-62e8-40c3-85ca-ba88322058a0"
      },
      "execution_count": 135,
      "outputs": [
        {
          "output_type": "stream",
          "name": "stdout",
          "text": [
            "[0, 1, 2, 3, 4, 5, 6, 7, 8, 9, 10, 11, 12, 13, 14, 15, 16, 17, 18, 19, 20, 21, 22, 23, 24, 25, 26, 27, 28, 29, 30, 31, 32, 33, 34, 35, 36, 37, 38, 39, 40, 41, 42, 43, 44, 45, 46, 47, 48, 49, 50, 51, 52, 53, 54, 55, 56, 57, 58, 59, 60, 61, 62, 63, 64, 65, 66, 67, 68, 69, 70, 71, 72, 73, 74, 75, 76, 77, 78, 79, 80, 81, 82, 83, 84, 85, 86, 87, 88, 89, 90, 91, 92, 93, 94, 95, 96, 97, 98, 99]"
          ]
        }
      ]
    },
    {
      "cell_type": "code",
      "source": [
        "odd= [i for i in l if i%2 !=0]"
      ],
      "metadata": {
        "id": "kWoXZ2WcgAX4"
      },
      "execution_count": 136,
      "outputs": []
    },
    {
      "cell_type": "code",
      "source": [
        "print(odd,end='')"
      ],
      "metadata": {
        "colab": {
          "base_uri": "https://localhost:8080/"
        },
        "id": "g_bYogknf2qX",
        "outputId": "0dc1f833-a5c5-4f9a-fe5b-fc9d1cf94db9"
      },
      "execution_count": 139,
      "outputs": [
        {
          "output_type": "stream",
          "name": "stdout",
          "text": [
            "[1, 3, 5, 7, 9, 11, 13, 15, 17, 19, 21, 23, 25, 27, 29, 31, 33, 35, 37, 39, 41, 43, 45, 47, 49, 51, 53, 55, 57, 59, 61, 63, 65, 67, 69, 71, 73, 75, 77, 79, 81, 83, 85, 87, 89, 91, 93, 95, 97, 99]"
          ]
        }
      ]
    },
    {
      "cell_type": "code",
      "source": [],
      "metadata": {
        "id": "Ai1MNg0DgQ3A"
      },
      "execution_count": null,
      "outputs": []
    }
  ]
}