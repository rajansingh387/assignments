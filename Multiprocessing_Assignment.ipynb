{
  "nbformat": 4,
  "nbformat_minor": 0,
  "metadata": {
    "colab": {
      "provenance": [],
      "authorship_tag": "ABX9TyMx6QN9Yoo1lx7rIzM8BCA7",
      "include_colab_link": true
    },
    "kernelspec": {
      "name": "python3",
      "display_name": "Python 3"
    },
    "language_info": {
      "name": "python"
    }
  },
  "cells": [
    {
      "cell_type": "markdown",
      "metadata": {
        "id": "view-in-github",
        "colab_type": "text"
      },
      "source": [
        "<a href=\"https://colab.research.google.com/github/rajansingh387/assignments/blob/main/Multiprocessing_Assignment.ipynb\" target=\"_parent\"><img src=\"https://colab.research.google.com/assets/colab-badge.svg\" alt=\"Open In Colab\"/></a>"
      ]
    },
    {
      "cell_type": "markdown",
      "source": [
        "Q1. What is multiprocessing in python? Why is it useful?"
      ],
      "metadata": {
        "id": "j5wbmJ5ALmIF"
      }
    },
    {
      "cell_type": "markdown",
      "source": [
        "multiprocessing is a process in which we use diffrent cpu cores\n",
        "to handle a single task.\n",
        "multiprocessing in Python refers to a programming technique that allows you to create and manage multiple processes. each process can run on separate CPU core and can take advantage of multi-core systems to perform computations more efficiently.\n",
        "\n",
        "multiprocessing can significantly speed up computations happening on a cpu.\n",
        "\n",
        "by distributing tasks across multiple processes, you can utilize the full processing power of your machine. this will show a lot of improvement in cpu utilization and improved performance and it will reduced execution time specially for tasks that require heavy computation but in small tasks you won't see any noticable improvements.\n",
        "\n",
        "each process runs on its own isolated cores which reduces the risk of data corruption."
      ],
      "metadata": {
        "id": "uDVOXenfLnTk"
      }
    },
    {
      "cell_type": "markdown",
      "source": [
        "Q2. What are the differences between multiprocessing and multithreading?\n",
        "\n",
        "in multiprocessing separate processes are created each with its own independent memory space. processes run in parallel and can take advantage of multiple CPU cores.\n",
        "because each process has its own memory space and resources multiprocessing can consume more memory compared to multithreading.this isolation can provide better stability.\n",
        "\n",
        "in multithreading, multiple threads are created within a single process. Threads share the same memory space and resources of the main process. Threads can run concurrently.\n",
        "threads within a process share resources this can lead to more efficient memory usage, but it can also introduce complexities related to synchronization and data sharing.\n"
      ],
      "metadata": {
        "id": "f9czl3_tPzsW"
      }
    },
    {
      "cell_type": "markdown",
      "source": [
        "Q3. Write a python code to create a process using the multiprocessing module."
      ],
      "metadata": {
        "id": "6nnp0UOeQuWl"
      }
    },
    {
      "cell_type": "code",
      "source": [
        "import multiprocessing\n",
        "\n",
        "def worker_func():\n",
        "    print(\"worker process is running!\")\n",
        "    print(\"worker process is running!\")\n",
        "    print(\"worker process is running!\")\n",
        "\n",
        "if __name__ == \"__main__\":\n",
        "    # create a new process\n",
        "    main = multiprocessing.Process(target=worker_func)\n",
        "\n",
        "    # start the process\n",
        "    main.start()\n",
        "\n",
        "    # wait for the process to finish\n",
        "    main.join()\n",
        "\n",
        "    print(\"main process is done.\")\n"
      ],
      "metadata": {
        "colab": {
          "base_uri": "https://localhost:8080/"
        },
        "id": "RPTAyEEKQ5Qc",
        "outputId": "88bad7c3-6bb0-4e41-a0d5-897d4c1a43d5"
      },
      "execution_count": 6,
      "outputs": [
        {
          "output_type": "stream",
          "name": "stdout",
          "text": [
            "worker process is running!\n",
            "worker process is running!\n",
            "worker process is running!\n",
            "main process is done.\n"
          ]
        }
      ]
    },
    {
      "cell_type": "markdown",
      "source": [
        "Q4. What is a multiprocessing pool in python? Why is it used?\n",
        "\n",
        " multiprocessing pool in Python is a function provided by the multiprocessing module that allows you to create a pool of worker processes to distribute and execute tasks properly.\n",
        "\n",
        "pool manages a set of worker processes, and you can assign task to the pool, pool then assigns those tasks to available worker processes. this is how we can take advantage of multi-core systems for improved performance using pool.\n",
        "\n",
        "multiprocessing pools are used to achieve parallelism so that we can run multiple tasks simultaneously in separate processes. this is mostly useful for tasks that can be split into independent chunks for exp-iterating through a large dataset or performing calculations on different items concurrently.\n",
        "\n"
      ],
      "metadata": {
        "id": "S-SYAScsR4T2"
      }
    },
    {
      "cell_type": "markdown",
      "source": [
        "Q5. How can we create a pool of worker processes in python using the multiprocessing module?"
      ],
      "metadata": {
        "id": "mgap5BsqSrOm"
      }
    },
    {
      "cell_type": "code",
      "source": [
        "import multiprocessing\n",
        "\n",
        "def square(n):\n",
        "    return n ** n\n",
        "\n",
        "if __name__ == \"__main__\":\n",
        "    numbers = [1,2,3,4,5,7,9,10]\n",
        "\n",
        "    with multiprocessing.Pool() as pool:\n",
        "        results = pool.map(square, numbers)\n",
        "\n",
        "    print(results)\n"
      ],
      "metadata": {
        "colab": {
          "base_uri": "https://localhost:8080/"
        },
        "id": "sLhqUUCtUC99",
        "outputId": "7bc920ea-eacb-4413-e81e-1733b703f76b"
      },
      "execution_count": 16,
      "outputs": [
        {
          "output_type": "stream",
          "name": "stdout",
          "text": [
            "[1, 4, 27, 256, 3125, 823543, 387420489, 10000000000]\n"
          ]
        }
      ]
    },
    {
      "cell_type": "code",
      "source": [
        "import multiprocessing\n",
        "\n",
        "def print_number(number):\n",
        "    print(f\"process {number}: {number} \")\n",
        "\n",
        "if __name__ == \"__main__\":\n",
        "    processes = []\n",
        "\n",
        "    for i in range(1, 5):\n",
        "        process = multiprocessing.Process(target=print_number, args=(i,))\n",
        "        processes.append(process)\n",
        "        process.start()\n",
        "\n",
        "    for process in processes:\n",
        "        process.join()\n",
        "\n",
        "    print(\" process finished.\")\n"
      ],
      "metadata": {
        "colab": {
          "base_uri": "https://localhost:8080/"
        },
        "id": "b1J11axVU_s9",
        "outputId": "5f80055d-c890-4f27-9af8-8e4c457eb5fd"
      },
      "execution_count": 20,
      "outputs": [
        {
          "output_type": "stream",
          "name": "stdout",
          "text": [
            "process 2: 2 process 1: 1 \n",
            "\n",
            "process 3: 3 \n",
            "process 4: 4 \n",
            " process finished.\n"
          ]
        }
      ]
    }
  ]
}