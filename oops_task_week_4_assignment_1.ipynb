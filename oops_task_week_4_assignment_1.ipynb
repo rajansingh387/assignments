{
  "nbformat": 4,
  "nbformat_minor": 0,
  "metadata": {
    "colab": {
      "provenance": [],
      "authorship_tag": "ABX9TyMCjRYfGgae9LSqmhcgKy8f",
      "include_colab_link": true
    },
    "kernelspec": {
      "name": "python3",
      "display_name": "Python 3"
    },
    "language_info": {
      "name": "python"
    }
  },
  "cells": [
    {
      "cell_type": "markdown",
      "metadata": {
        "id": "view-in-github",
        "colab_type": "text"
      },
      "source": [
        "<a href=\"https://colab.research.google.com/github/rajansingh387/assignments/blob/main/oops_task_week_4_assignment_1.ipynb\" target=\"_parent\"><img src=\"https://colab.research.google.com/assets/colab-badge.svg\" alt=\"Open In Colab\"/></a>"
      ]
    },
    {
      "cell_type": "markdown",
      "source": [
        "Q1, Create a vehicle class with an init method having instance variables as name_of_vehicle, max_speed\n",
        "and average_of_vehicle."
      ],
      "metadata": {
        "id": "C8kn6YL0zezX"
      }
    },
    {
      "cell_type": "code",
      "execution_count": null,
      "metadata": {
        "id": "h8EelcRNzYA3"
      },
      "outputs": [],
      "source": [
        "class vehicle:\n",
        "  def __init__(self,name_of_vehicle,max_speed,average_of_vehicle):\n",
        "    self.name_of_vehicle=name_of_vehicle\n",
        "    self.max_speed= max_speed\n",
        "    self.average_of_vehicle= average_of_vehicle\n"
      ]
    },
    {
      "cell_type": "code",
      "source": [
        "car= vehicle('maruti',120,23)"
      ],
      "metadata": {
        "id": "XxlPPZoz0Dgp"
      },
      "execution_count": null,
      "outputs": []
    },
    {
      "cell_type": "code",
      "source": [
        "car.name_of_vehicle"
      ],
      "metadata": {
        "colab": {
          "base_uri": "https://localhost:8080/",
          "height": 36
        },
        "id": "_HQez97z0PL3",
        "outputId": "054ec817-fb15-4cda-b1c4-3090f7b2c1ab"
      },
      "execution_count": null,
      "outputs": [
        {
          "output_type": "execute_result",
          "data": {
            "text/plain": [
              "'maruti'"
            ],
            "application/vnd.google.colaboratory.intrinsic+json": {
              "type": "string"
            }
          },
          "metadata": {},
          "execution_count": 35
        }
      ]
    },
    {
      "cell_type": "code",
      "source": [
        "car.max_speed"
      ],
      "metadata": {
        "colab": {
          "base_uri": "https://localhost:8080/"
        },
        "id": "96EeiPIO0VDW",
        "outputId": "0a9e1967-cb00-44d4-dd9a-ced9699731cf"
      },
      "execution_count": null,
      "outputs": [
        {
          "output_type": "execute_result",
          "data": {
            "text/plain": [
              "120"
            ]
          },
          "metadata": {},
          "execution_count": 36
        }
      ]
    },
    {
      "cell_type": "markdown",
      "source": [
        "Q2. Create a child class car from the vehicle class created in Que 1, which will inherit the vehicle class.\n",
        "Create a method named seating_capacity which takes capacity as an argument and returns the name of\n",
        "the vehicle and its seating capacity."
      ],
      "metadata": {
        "id": "9Ryh66Rh03sQ"
      }
    },
    {
      "cell_type": "code",
      "source": [
        "class car(vehicle):\n",
        "  def seating_capacity(self,capacity):\n",
        "    return f'{self.name_of_vehicle} have capacity of {capacity}'"
      ],
      "metadata": {
        "id": "2QRQw6Xx0YIW"
      },
      "execution_count": null,
      "outputs": []
    },
    {
      "cell_type": "code",
      "source": [
        "car= car('maruti',120,20)"
      ],
      "metadata": {
        "id": "U1p66xEN1T1Q"
      },
      "execution_count": null,
      "outputs": []
    },
    {
      "cell_type": "code",
      "source": [
        "car.seating_capacity(4)"
      ],
      "metadata": {
        "colab": {
          "base_uri": "https://localhost:8080/",
          "height": 36
        },
        "id": "uKG2Jn3u14eW",
        "outputId": "a13b027f-78aa-43d9-eea2-a75f20c52bb7"
      },
      "execution_count": null,
      "outputs": [
        {
          "output_type": "execute_result",
          "data": {
            "text/plain": [
              "'maruti have capacity of 4'"
            ],
            "application/vnd.google.colaboratory.intrinsic+json": {
              "type": "string"
            }
          },
          "metadata": {},
          "execution_count": 40
        }
      ]
    },
    {
      "cell_type": "code",
      "source": [
        "car.name_of_vehicle"
      ],
      "metadata": {
        "colab": {
          "base_uri": "https://localhost:8080/",
          "height": 36
        },
        "id": "lrvZHuhq33tu",
        "outputId": "a27ce3aa-450a-4b22-b33a-a95230c7ae79"
      },
      "execution_count": null,
      "outputs": [
        {
          "output_type": "execute_result",
          "data": {
            "text/plain": [
              "'maruti'"
            ],
            "application/vnd.google.colaboratory.intrinsic+json": {
              "type": "string"
            }
          },
          "metadata": {},
          "execution_count": 41
        }
      ]
    },
    {
      "cell_type": "markdown",
      "source": [
        "Q3. What is multiple inheritance? Write a python code to demonstrate multiple inheritance."
      ],
      "metadata": {
        "id": "50eTlUAl4j6f"
      }
    },
    {
      "cell_type": "markdown",
      "source": [
        "inheritance is when we use variable of a class inside another class or we can can when we use parent class inside the child class it can be defined as inheritance  and in multiple inheritance we can inherit two or more classes in another child class."
      ],
      "metadata": {
        "id": "eSOL0qlj8GQY"
      }
    },
    {
      "cell_type": "code",
      "source": [
        "class teamind:\n",
        "  #class1\n",
        "  def player(self,name,team,role):\n",
        "    self.name= name\n",
        "    self.team= team\n",
        "    self.role= role\n",
        "    print(f'player is {name} playing for {team} playing as {role}')\n",
        "\n",
        "team= teamind()\n",
        "team.player('dhoni','india','captain')"
      ],
      "metadata": {
        "colab": {
          "base_uri": "https://localhost:8080/"
        },
        "id": "yLksAAsT-Dpb",
        "outputId": "8668958c-fb28-4c4c-8803-8b8ef73322a4"
      },
      "execution_count": null,
      "outputs": [
        {
          "output_type": "stream",
          "name": "stdout",
          "text": [
            "player is dhoni playing for india playing as captain\n"
          ]
        }
      ]
    },
    {
      "cell_type": "code",
      "source": [
        "class ipl():\n",
        "  #class2\n",
        "  def playeripl(self,name,team2,role):\n",
        "    self.team2= team2\n",
        "    print(f'player is {name} playing for {team2} playing as {role}')\n",
        "\n",
        "teamcsk= ipl()\n",
        "teamcsk.playeripl('dhoni','csk','captain')"
      ],
      "metadata": {
        "colab": {
          "base_uri": "https://localhost:8080/"
        },
        "id": "XIrdr13k4jNj",
        "outputId": "8aad3030-1fe3-4f5a-f2e2-31f4df8db3d4"
      },
      "execution_count": null,
      "outputs": [
        {
          "output_type": "stream",
          "name": "stdout",
          "text": [
            "player is dhoni playing for csk playing as captain\n"
          ]
        }
      ]
    },
    {
      "cell_type": "code",
      "source": [
        "class player_infor(ipl,teamind):\n",
        "  def player_det(self,total_runs,total_match):\n",
        "    print(f'player is {self.name} playing for {self.team} and {self.team2} playing as {self.role} has scored {total_runs} runs in {total_match} ')"
      ],
      "metadata": {
        "id": "b_EvuFAA4jMV"
      },
      "execution_count": null,
      "outputs": []
    },
    {
      "cell_type": "code",
      "source": [
        "player= player_infor()"
      ],
      "metadata": {
        "id": "N36T2nxe_Ueq"
      },
      "execution_count": null,
      "outputs": []
    },
    {
      "cell_type": "code",
      "source": [
        "player.player('dhoni','india','captain')\n",
        "player.playeripl('dhoni','csk','captain')"
      ],
      "metadata": {
        "colab": {
          "base_uri": "https://localhost:8080/"
        },
        "id": "s7CrzcTqHdHw",
        "outputId": "cac839cc-dfaf-4f9a-c1bf-c0cbc85961ea"
      },
      "execution_count": null,
      "outputs": [
        {
          "output_type": "stream",
          "name": "stdout",
          "text": [
            "player is dhoni playing for india playing as captain\n",
            "player is dhoni playing for csk playing as captain\n"
          ]
        }
      ]
    },
    {
      "cell_type": "code",
      "source": [
        "player.player_det(10013,200)"
      ],
      "metadata": {
        "colab": {
          "base_uri": "https://localhost:8080/"
        },
        "id": "cjWFrdIbE_1Z",
        "outputId": "c5990b1b-702d-41a1-c688-5e974df65649"
      },
      "execution_count": null,
      "outputs": [
        {
          "output_type": "stream",
          "name": "stdout",
          "text": [
            "player is dhoni playing for india and csk playing as captain has scored 10013 runs in 200 \n"
          ]
        }
      ]
    },
    {
      "cell_type": "markdown",
      "source": [
        "Q4. What are getter and setter in python? Create a class and create a getter and a setter method in this\n",
        "class."
      ],
      "metadata": {
        "id": "1151WznmuLjD"
      }
    },
    {
      "cell_type": "markdown",
      "source": [
        "Getters and setters are two methods that we can use when implementing encapsulation because we cannot directly expose the original variables to the user. By creating these methods, we can provide limited access to the variables.\n",
        "\n",
        "A getter is a function used to retrieve or get specific details from an object, while a setter is used to modify or change certain information."
      ],
      "metadata": {
        "id": "ly0GGaWi9LqB"
      }
    },
    {
      "cell_type": "code",
      "source": [
        "class course:\n",
        "  def __init__(self,course_price,course_name):\n",
        "    self.__course_price= course_price\n",
        "    self.course_name= course_name\n",
        "\n",
        "  #using property method\n",
        "  '''in Python the property method is used to define getter functions. When you use the\n",
        "   @property decorator on a method, it will transforms the property method into a getter method.'''\n",
        "\n",
        "\n",
        "  @property\n",
        "  def course_price_access(self):\n",
        "    return self.__course_price\n",
        "  @course_price_access.setter\n",
        "  def change_price(self,price):\n",
        "    self.__course_price= price\n"
      ],
      "metadata": {
        "id": "tvvshi9OuK6M"
      },
      "execution_count": 38,
      "outputs": []
    },
    {
      "cell_type": "code",
      "source": [
        "cou= course(1500,'pw')"
      ],
      "metadata": {
        "id": "wAKIECytv2kU"
      },
      "execution_count": 39,
      "outputs": []
    },
    {
      "cell_type": "code",
      "source": [
        "cou.course_price_access"
      ],
      "metadata": {
        "colab": {
          "base_uri": "https://localhost:8080/"
        },
        "id": "wMF8wa87wHfb",
        "outputId": "34847f63-a70c-425a-9d0e-c231ca614e5b"
      },
      "execution_count": 40,
      "outputs": [
        {
          "output_type": "execute_result",
          "data": {
            "text/plain": [
              "1500"
            ]
          },
          "metadata": {},
          "execution_count": 40
        }
      ]
    },
    {
      "cell_type": "code",
      "source": [
        "cou.change_price= 2500"
      ],
      "metadata": {
        "id": "Z6fcPQHtv2lf"
      },
      "execution_count": 41,
      "outputs": []
    },
    {
      "cell_type": "code",
      "source": [
        "cou.course_price_access"
      ],
      "metadata": {
        "colab": {
          "base_uri": "https://localhost:8080/"
        },
        "id": "APYpmpwmv2qb",
        "outputId": "69f7446b-5647-41c8-86f0-f9a20a5cb0f9"
      },
      "execution_count": 42,
      "outputs": [
        {
          "output_type": "execute_result",
          "data": {
            "text/plain": [
              "2500"
            ]
          },
          "metadata": {},
          "execution_count": 42
        }
      ]
    },
    {
      "cell_type": "markdown",
      "source": [
        "Q5.What is method overriding in python? Write a python code to demonstrate method overriding."
      ],
      "metadata": {
        "id": "uTbBvbh73rmL"
      }
    },
    {
      "cell_type": "markdown",
      "source": [
        "when we define two classes and use same function in both of them child class will override the function of parent class this can be defined as method overriding."
      ],
      "metadata": {
        "id": "JDyJGxk7_PVa"
      }
    },
    {
      "cell_type": "code",
      "source": [
        "class dad:\n",
        "  def __init__(self,age):\n",
        "    self.age= age\n",
        "\n",
        "  def show(self):\n",
        "    print(f'this is dad class {self.age}')\n",
        "\n",
        "class child(dad):\n",
        "  def __init__(self,age):\n",
        "    self.age= age\n",
        "\n",
        "  def show(self):\n",
        "    return f'this is child class {self.age}'\n",
        "\n",
        "\n"
      ],
      "metadata": {
        "id": "T12TEMjU3yQQ"
      },
      "execution_count": 53,
      "outputs": []
    },
    {
      "cell_type": "code",
      "source": [
        "dad1= dad(38)"
      ],
      "metadata": {
        "id": "FF8-824R6vl6"
      },
      "execution_count": 54,
      "outputs": []
    },
    {
      "cell_type": "code",
      "source": [
        "dad1.show()"
      ],
      "metadata": {
        "colab": {
          "base_uri": "https://localhost:8080/"
        },
        "id": "OtHH17_F7dCp",
        "outputId": "82a8344d-22ad-4e82-b7a2-45e7095df0ee"
      },
      "execution_count": 55,
      "outputs": [
        {
          "output_type": "stream",
          "name": "stdout",
          "text": [
            "this is dad class 38\n"
          ]
        }
      ]
    },
    {
      "cell_type": "code",
      "source": [
        "chil= child(18)"
      ],
      "metadata": {
        "id": "lI3PoFCo7gGf"
      },
      "execution_count": 56,
      "outputs": []
    },
    {
      "cell_type": "code",
      "source": [
        "chil.show()"
      ],
      "metadata": {
        "colab": {
          "base_uri": "https://localhost:8080/",
          "height": 36
        },
        "id": "TWyi8sbC7mkQ",
        "outputId": "9d0fbba7-4838-474d-d36b-c814be86648c"
      },
      "execution_count": 57,
      "outputs": [
        {
          "output_type": "execute_result",
          "data": {
            "text/plain": [
              "'this is child class 18'"
            ],
            "application/vnd.google.colaboratory.intrinsic+json": {
              "type": "string"
            }
          },
          "metadata": {},
          "execution_count": 57
        }
      ]
    },
    {
      "cell_type": "code",
      "source": [],
      "metadata": {
        "id": "NWHGpkpM7yHH"
      },
      "execution_count": null,
      "outputs": []
    }
  ]
}