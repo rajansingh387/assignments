{
  "nbformat": 4,
  "nbformat_minor": 0,
  "metadata": {
    "colab": {
      "provenance": [],
      "authorship_tag": "ABX9TyPbVCq85KGY80fAyuhl3BuE",
      "include_colab_link": true
    },
    "kernelspec": {
      "name": "python3",
      "display_name": "Python 3"
    },
    "language_info": {
      "name": "python"
    }
  },
  "cells": [
    {
      "cell_type": "markdown",
      "metadata": {
        "id": "view-in-github",
        "colab_type": "text"
      },
      "source": [
        "<a href=\"https://colab.research.google.com/github/rajansingh387/assignments/blob/main/Mysql_Assignment.ipynb\" target=\"_parent\"><img src=\"https://colab.research.google.com/assets/colab-badge.svg\" alt=\"Open In Colab\"/></a>"
      ]
    },
    {
      "cell_type": "markdown",
      "source": [
        "Q1. What is a database? Differentiate between SQL and NoSQL databases.\n",
        "\n",
        "\n",
        "a database is a memory or place where we store various types of data and where we  can perform varius task on that data like analyzing, editing etc. database provides a way to store and manage large amounts of data without ruining data's  integrity.\n",
        "\n",
        "sql databases follow a structured, tabular data model. data is stored in tables with predefined schemas where each row represents a record, and columns represent features of that record.\n",
        "sql databases typically support acid\n",
        "\n",
        "(Atomicity, Consistency, Isolation, Durability)\n",
        "\n",
        " transactions, which ensure data integrity and consistency even in the presence of failures.\n",
        "\n",
        " nosql databases offer a variety of data models, such as document based, key value,column family, and graph based. these models are more flexible,allowing developers to choose the best fit for their data.\n",
        "\n",
        " i summary sql database are best suited for projects or applications where you need structured data, where it is necessory to maintain acid properties. no sql databases are best suited for projects where data is not in structured format and where data changes rapidly."
      ],
      "metadata": {
        "id": "NaHn1jmj_W8t"
      }
    },
    {
      "cell_type": "markdown",
      "source": [
        "Q2. What is DDL? Explain why CREATE, DROP, ALTER, and TRUNCATE are used with an example.\n",
        "\n",
        "Data Definition Language statements are used to create, modify, and delete database objects such as tables, indexes, and views.\n",
        "it is a subset of SQL"
      ],
      "metadata": {
        "id": "9E1QbpotFDrQ"
      }
    },
    {
      "cell_type": "code",
      "source": [
        "!pip install ipython-sql\n"
      ],
      "metadata": {
        "id": "XijFgJTbCqVw",
        "colab": {
          "base_uri": "https://localhost:8080/"
        },
        "outputId": "228f99ae-7de0-4943-8c65-ada1cd4b2715"
      },
      "execution_count": null,
      "outputs": [
        {
          "output_type": "stream",
          "name": "stdout",
          "text": [
            "Requirement already satisfied: ipython-sql in /usr/local/lib/python3.10/dist-packages (0.5.0)\n",
            "Requirement already satisfied: prettytable in /usr/local/lib/python3.10/dist-packages (from ipython-sql) (3.8.0)\n",
            "Requirement already satisfied: ipython in /usr/local/lib/python3.10/dist-packages (from ipython-sql) (7.34.0)\n",
            "Requirement already satisfied: sqlalchemy>=2.0 in /usr/local/lib/python3.10/dist-packages (from ipython-sql) (2.0.20)\n",
            "Requirement already satisfied: sqlparse in /usr/local/lib/python3.10/dist-packages (from ipython-sql) (0.4.4)\n",
            "Requirement already satisfied: six in /usr/local/lib/python3.10/dist-packages (from ipython-sql) (1.16.0)\n",
            "Requirement already satisfied: ipython-genutils in /usr/local/lib/python3.10/dist-packages (from ipython-sql) (0.2.0)\n",
            "Requirement already satisfied: typing-extensions>=4.2.0 in /usr/local/lib/python3.10/dist-packages (from sqlalchemy>=2.0->ipython-sql) (4.7.1)\n",
            "Requirement already satisfied: greenlet!=0.4.17 in /usr/local/lib/python3.10/dist-packages (from sqlalchemy>=2.0->ipython-sql) (2.0.2)\n",
            "Requirement already satisfied: setuptools>=18.5 in /usr/local/lib/python3.10/dist-packages (from ipython->ipython-sql) (67.7.2)\n",
            "Requirement already satisfied: jedi>=0.16 in /usr/local/lib/python3.10/dist-packages (from ipython->ipython-sql) (0.19.0)\n",
            "Requirement already satisfied: decorator in /usr/local/lib/python3.10/dist-packages (from ipython->ipython-sql) (4.4.2)\n",
            "Requirement already satisfied: pickleshare in /usr/local/lib/python3.10/dist-packages (from ipython->ipython-sql) (0.7.5)\n",
            "Requirement already satisfied: traitlets>=4.2 in /usr/local/lib/python3.10/dist-packages (from ipython->ipython-sql) (5.7.1)\n",
            "Requirement already satisfied: prompt-toolkit!=3.0.0,!=3.0.1,<3.1.0,>=2.0.0 in /usr/local/lib/python3.10/dist-packages (from ipython->ipython-sql) (3.0.39)\n",
            "Requirement already satisfied: pygments in /usr/local/lib/python3.10/dist-packages (from ipython->ipython-sql) (2.16.1)\n",
            "Requirement already satisfied: backcall in /usr/local/lib/python3.10/dist-packages (from ipython->ipython-sql) (0.2.0)\n",
            "Requirement already satisfied: matplotlib-inline in /usr/local/lib/python3.10/dist-packages (from ipython->ipython-sql) (0.1.6)\n",
            "Requirement already satisfied: pexpect>4.3 in /usr/local/lib/python3.10/dist-packages (from ipython->ipython-sql) (4.8.0)\n",
            "Requirement already satisfied: wcwidth in /usr/local/lib/python3.10/dist-packages (from prettytable->ipython-sql) (0.2.6)\n",
            "Requirement already satisfied: parso<0.9.0,>=0.8.3 in /usr/local/lib/python3.10/dist-packages (from jedi>=0.16->ipython->ipython-sql) (0.8.3)\n",
            "Requirement already satisfied: ptyprocess>=0.5 in /usr/local/lib/python3.10/dist-packages (from pexpect>4.3->ipython->ipython-sql) (0.7.0)\n"
          ]
        }
      ]
    },
    {
      "cell_type": "code",
      "source": [
        "%load_ext sql\n",
        "%sql sqlite://\n"
      ],
      "metadata": {
        "colab": {
          "base_uri": "https://localhost:8080/"
        },
        "id": "lz6h1Vd2FozP",
        "outputId": "25c8900f-d23e-440d-de01-ba29a58b5ffd"
      },
      "execution_count": null,
      "outputs": [
        {
          "output_type": "stream",
          "name": "stdout",
          "text": [
            "The sql extension is already loaded. To reload it, use:\n",
            "  %reload_ext sql\n"
          ]
        }
      ]
    },
    {
      "cell_type": "markdown",
      "source": [
        "the create statement is used to create new database objects, such as tables, indexes, views, and more."
      ],
      "metadata": {
        "id": "SqJl34v6OpTI"
      }
    },
    {
      "cell_type": "code",
      "source": [
        "%%sql\n",
        "\n",
        "CREATE TABLE Students (\n",
        "    StudentID INT PRIMARY KEY,\n",
        "    FirstName TEXT,\n",
        "    LastName TEXT,\n",
        "    Age INT\n",
        ");\n",
        "\n",
        "-- Insert data into the table\n",
        "INSERT INTO Students (StudentID, FirstName, LastName, Age)\n",
        "VALUES (1, 'John', 'Doe', 20),\n",
        "       (2, 'Jane', 'Smith', 22),\n",
        "       (3, 'Michael', 'Johnson', 21);\n",
        "\n",
        "-- Retrieve data from the table\n",
        "SELECT * FROM Students;"
      ],
      "metadata": {
        "colab": {
          "base_uri": "https://localhost:8080/",
          "height": 172
        },
        "id": "nRdmAuEOG4Yn",
        "outputId": "6e95be80-545f-41e3-82b5-f5f8c129ee15"
      },
      "execution_count": null,
      "outputs": [
        {
          "output_type": "stream",
          "name": "stdout",
          "text": [
            " * sqlite://\n",
            "Done.\n",
            "3 rows affected.\n",
            "Done.\n"
          ]
        },
        {
          "output_type": "execute_result",
          "data": {
            "text/plain": [
              "[(1, 'John', 'Doe', 20),\n",
              " (2, 'Jane', 'Smith', 22),\n",
              " (3, 'Michael', 'Johnson', 21)]"
            ],
            "text/html": [
              "<table>\n",
              "    <thead>\n",
              "        <tr>\n",
              "            <th>StudentID</th>\n",
              "            <th>FirstName</th>\n",
              "            <th>LastName</th>\n",
              "            <th>Age</th>\n",
              "        </tr>\n",
              "    </thead>\n",
              "    <tbody>\n",
              "        <tr>\n",
              "            <td>1</td>\n",
              "            <td>John</td>\n",
              "            <td>Doe</td>\n",
              "            <td>20</td>\n",
              "        </tr>\n",
              "        <tr>\n",
              "            <td>2</td>\n",
              "            <td>Jane</td>\n",
              "            <td>Smith</td>\n",
              "            <td>22</td>\n",
              "        </tr>\n",
              "        <tr>\n",
              "            <td>3</td>\n",
              "            <td>Michael</td>\n",
              "            <td>Johnson</td>\n",
              "            <td>21</td>\n",
              "        </tr>\n",
              "    </tbody>\n",
              "</table>"
            ]
          },
          "metadata": {},
          "execution_count": 36
        }
      ]
    },
    {
      "cell_type": "markdown",
      "source": [
        " alter statement is used to modify existing database objects. It can be used to add, modify, or drop columns, constraints, and more within a table."
      ],
      "metadata": {
        "id": "nCnWhyp1PL5n"
      }
    },
    {
      "cell_type": "code",
      "source": [
        "%%sql\n",
        "ALTER TABLE students\n",
        "ADD oom VARCHAR(20);\n"
      ],
      "metadata": {
        "colab": {
          "base_uri": "https://localhost:8080/"
        },
        "id": "BFn3i_2oI7yG",
        "outputId": "c5ccdd38-57fd-4730-837f-188922ad3e37"
      },
      "execution_count": null,
      "outputs": [
        {
          "output_type": "stream",
          "name": "stdout",
          "text": [
            " * sqlite://\n",
            "Done.\n"
          ]
        },
        {
          "output_type": "execute_result",
          "data": {
            "text/plain": [
              "[]"
            ]
          },
          "metadata": {},
          "execution_count": 37
        }
      ]
    },
    {
      "cell_type": "markdown",
      "source": [
        " truncate statement is used to remove all data from a table, while keeping the structure intact. this sytax won't work in colab because we are using sqlit"
      ],
      "metadata": {
        "id": "Y6EP0mq1Ph83"
      }
    },
    {
      "cell_type": "code",
      "source": [
        "%%sql\n",
        "TRUNCATE table students;"
      ],
      "metadata": {
        "colab": {
          "base_uri": "https://localhost:8080/"
        },
        "id": "9e_QYBKJPYc_",
        "outputId": "de37843b-1619-4318-b6a4-20700a44f578"
      },
      "execution_count": null,
      "outputs": [
        {
          "output_type": "stream",
          "name": "stdout",
          "text": [
            " * sqlite://\n",
            "(sqlite3.OperationalError) near \"TRUNCATE\": syntax error\n",
            "[SQL: TRUNCATE table students;]\n",
            "(Background on this error at: https://sqlalche.me/e/20/e3q8)\n"
          ]
        }
      ]
    },
    {
      "cell_type": "markdown",
      "source": [
        "drop statement is used to delete a table,index, database etc"
      ],
      "metadata": {
        "id": "wduEjDVlQkF4"
      }
    },
    {
      "cell_type": "code",
      "source": [
        "%%sql\n",
        "drop table students"
      ],
      "metadata": {
        "colab": {
          "base_uri": "https://localhost:8080/"
        },
        "id": "A7SxOwbnQR9P",
        "outputId": "8559db92-5c3a-4f10-c3a3-3fa4e68101d3"
      },
      "execution_count": null,
      "outputs": [
        {
          "output_type": "stream",
          "name": "stdout",
          "text": [
            " * sqlite://\n",
            "Done.\n"
          ]
        },
        {
          "output_type": "execute_result",
          "data": {
            "text/plain": [
              "[]"
            ]
          },
          "metadata": {},
          "execution_count": 39
        }
      ]
    },
    {
      "cell_type": "markdown",
      "source": [
        "Q3. What is DML? Explain INSERT, UPDATE, and DELETE with an example."
      ],
      "metadata": {
        "id": "hJYzDALcQ3HR"
      }
    },
    {
      "cell_type": "markdown",
      "source": [
        "dml statements are used to insert,update, and delete data within database tables. it is a subset of sql which is used to interact with and manipulate the data stored within a database."
      ],
      "metadata": {
        "id": "GlCHYepVVwPT"
      }
    },
    {
      "cell_type": "code",
      "source": [
        "%%sql\n",
        "CREATE TABLE Students (\n",
        "    StudentID INT PRIMARY KEY,\n",
        "    FirstName TEXT,\n",
        "    LastName TEXT,\n",
        "    Age INT\n",
        ");\n"
      ],
      "metadata": {
        "id": "HXtx67kOV-R6"
      },
      "execution_count": null,
      "outputs": []
    },
    {
      "cell_type": "markdown",
      "source": [
        "insert statement is used to insert data into tables,you can insert data into specific columns or all columns, depending on your needs"
      ],
      "metadata": {
        "id": "vspKhSbPW8MX"
      }
    },
    {
      "cell_type": "code",
      "source": [
        "%%sql\n",
        "INSERT INTO students (StudentID, FirstName, LastName, Age)\n",
        "VALUES (1, 'rajan', 'singh', 18);\n"
      ],
      "metadata": {
        "colab": {
          "base_uri": "https://localhost:8080/"
        },
        "id": "v2SaLiliWY-M",
        "outputId": "4c53304d-2dac-4194-f0aa-2b099ceb1956"
      },
      "execution_count": null,
      "outputs": [
        {
          "output_type": "stream",
          "name": "stdout",
          "text": [
            " * sqlite://\n",
            "1 rows affected.\n"
          ]
        },
        {
          "output_type": "execute_result",
          "data": {
            "text/plain": [
              "[]"
            ]
          },
          "metadata": {},
          "execution_count": 46
        }
      ]
    },
    {
      "cell_type": "code",
      "source": [
        "%%sql\n",
        "select * from students;"
      ],
      "metadata": {
        "colab": {
          "base_uri": "https://localhost:8080/",
          "height": 95
        },
        "id": "QFr8LyOrWeHR",
        "outputId": "3dc27a4d-4b7f-4e3e-82c6-a74123493b4f"
      },
      "execution_count": null,
      "outputs": [
        {
          "output_type": "stream",
          "name": "stdout",
          "text": [
            " * sqlite://\n",
            "Done.\n"
          ]
        },
        {
          "output_type": "execute_result",
          "data": {
            "text/plain": [
              "[(1, 'rajan', 'singh', 18)]"
            ],
            "text/html": [
              "<table>\n",
              "    <thead>\n",
              "        <tr>\n",
              "            <th>StudentID</th>\n",
              "            <th>FirstName</th>\n",
              "            <th>LastName</th>\n",
              "            <th>Age</th>\n",
              "        </tr>\n",
              "    </thead>\n",
              "    <tbody>\n",
              "        <tr>\n",
              "            <td>1</td>\n",
              "            <td>rajan</td>\n",
              "            <td>singh</td>\n",
              "            <td>18</td>\n",
              "        </tr>\n",
              "    </tbody>\n",
              "</table>"
            ]
          },
          "metadata": {},
          "execution_count": 47
        }
      ]
    },
    {
      "cell_type": "markdown",
      "source": [
        "update statement is used to modify existing data in a table. you can update specific rows that match a certain condition."
      ],
      "metadata": {
        "id": "mRiChA_-X3NF"
      }
    },
    {
      "cell_type": "code",
      "source": [
        "%%sql\n",
        "UPDATE students\n",
        "SET firstname = 'megha'\n",
        "WHERE studentid = 1;\n"
      ],
      "metadata": {
        "colab": {
          "base_uri": "https://localhost:8080/"
        },
        "id": "mN7G-I7_W4oR",
        "outputId": "371a3c75-19cc-444c-bef5-c4ed199e4e75"
      },
      "execution_count": null,
      "outputs": [
        {
          "output_type": "stream",
          "name": "stdout",
          "text": [
            " * sqlite://\n",
            "1 rows affected.\n"
          ]
        },
        {
          "output_type": "execute_result",
          "data": {
            "text/plain": [
              "[]"
            ]
          },
          "metadata": {},
          "execution_count": 52
        }
      ]
    },
    {
      "cell_type": "code",
      "source": [
        "%%sql\n",
        "select * from students\n",
        "where studentid=1;\n"
      ],
      "metadata": {
        "colab": {
          "base_uri": "https://localhost:8080/",
          "height": 95
        },
        "id": "21-kuYw0XWrL",
        "outputId": "b1c05989-2614-4270-8e11-7e53c479b3f9"
      },
      "execution_count": null,
      "outputs": [
        {
          "output_type": "stream",
          "name": "stdout",
          "text": [
            " * sqlite://\n",
            "Done.\n"
          ]
        },
        {
          "output_type": "execute_result",
          "data": {
            "text/plain": [
              "[(1, 'megha', 'singh', 18)]"
            ],
            "text/html": [
              "<table>\n",
              "    <thead>\n",
              "        <tr>\n",
              "            <th>StudentID</th>\n",
              "            <th>FirstName</th>\n",
              "            <th>LastName</th>\n",
              "            <th>Age</th>\n",
              "        </tr>\n",
              "    </thead>\n",
              "    <tbody>\n",
              "        <tr>\n",
              "            <td>1</td>\n",
              "            <td>megha</td>\n",
              "            <td>singh</td>\n",
              "            <td>18</td>\n",
              "        </tr>\n",
              "    </tbody>\n",
              "</table>"
            ]
          },
          "metadata": {},
          "execution_count": 53
        }
      ]
    },
    {
      "cell_type": "code",
      "source": [
        "%%sql\n",
        "\n",
        "UPDATE students\n",
        "SET FirstName = LastName\n",
        "WHERE StudentID = 1;\n"
      ],
      "metadata": {
        "colab": {
          "base_uri": "https://localhost:8080/"
        },
        "id": "1HXhcnxMXm2R",
        "outputId": "8423c7e0-a145-4b6e-c333-52d50e03dced"
      },
      "execution_count": null,
      "outputs": [
        {
          "output_type": "stream",
          "name": "stdout",
          "text": [
            " * sqlite://\n",
            "1 rows affected.\n"
          ]
        },
        {
          "output_type": "execute_result",
          "data": {
            "text/plain": [
              "[]"
            ]
          },
          "metadata": {},
          "execution_count": 56
        }
      ]
    },
    {
      "cell_type": "code",
      "source": [
        "%%sql\n",
        "select * from students\n",
        "where studentid=1;"
      ],
      "metadata": {
        "colab": {
          "base_uri": "https://localhost:8080/",
          "height": 95
        },
        "id": "eST5qBIeYOB7",
        "outputId": "9b25d13c-0f68-4200-a953-75ba15155938"
      },
      "execution_count": null,
      "outputs": [
        {
          "output_type": "stream",
          "name": "stdout",
          "text": [
            " * sqlite://\n",
            "Done.\n"
          ]
        },
        {
          "output_type": "execute_result",
          "data": {
            "text/plain": [
              "[(1, 'singh', 'singh', 18)]"
            ],
            "text/html": [
              "<table>\n",
              "    <thead>\n",
              "        <tr>\n",
              "            <th>StudentID</th>\n",
              "            <th>FirstName</th>\n",
              "            <th>LastName</th>\n",
              "            <th>Age</th>\n",
              "        </tr>\n",
              "    </thead>\n",
              "    <tbody>\n",
              "        <tr>\n",
              "            <td>1</td>\n",
              "            <td>singh</td>\n",
              "            <td>singh</td>\n",
              "            <td>18</td>\n",
              "        </tr>\n",
              "    </tbody>\n",
              "</table>"
            ]
          },
          "metadata": {},
          "execution_count": 57
        }
      ]
    },
    {
      "cell_type": "markdown",
      "source": [
        "Q4. What is DQL? Explain SELECT with an example.\n",
        "\n",
        "DQL focuses on querying the database to retrieve specific information without modifying the data itself. main dql statement is the SELECT statement, which allows you to retrieve data from one or more tables based on specified criteria."
      ],
      "metadata": {
        "id": "rfU7I9F4Ylfb"
      }
    },
    {
      "cell_type": "code",
      "source": [
        "%%sql\n",
        "select firstname from students;"
      ],
      "metadata": {
        "colab": {
          "base_uri": "https://localhost:8080/",
          "height": 95
        },
        "id": "V4SG5xyRYh_h",
        "outputId": "d8f5ae83-6cf3-486c-99dc-9e01c15f307f"
      },
      "execution_count": null,
      "outputs": [
        {
          "output_type": "stream",
          "name": "stdout",
          "text": [
            " * sqlite://\n",
            "Done.\n"
          ]
        },
        {
          "output_type": "execute_result",
          "data": {
            "text/plain": [
              "[('singh',)]"
            ],
            "text/html": [
              "<table>\n",
              "    <thead>\n",
              "        <tr>\n",
              "            <th>FirstName</th>\n",
              "        </tr>\n",
              "    </thead>\n",
              "    <tbody>\n",
              "        <tr>\n",
              "            <td>singh</td>\n",
              "        </tr>\n",
              "    </tbody>\n",
              "</table>"
            ]
          },
          "metadata": {},
          "execution_count": 58
        }
      ]
    },
    {
      "cell_type": "code",
      "source": [
        "%%sql\n",
        "select age from students;"
      ],
      "metadata": {
        "colab": {
          "base_uri": "https://localhost:8080/",
          "height": 95
        },
        "id": "o78dIUMVY6uJ",
        "outputId": "4adc47ce-25a5-464c-b4f0-57503e94eac4"
      },
      "execution_count": null,
      "outputs": [
        {
          "output_type": "stream",
          "name": "stdout",
          "text": [
            " * sqlite://\n",
            "Done.\n"
          ]
        },
        {
          "output_type": "execute_result",
          "data": {
            "text/plain": [
              "[(18,)]"
            ],
            "text/html": [
              "<table>\n",
              "    <thead>\n",
              "        <tr>\n",
              "            <th>Age</th>\n",
              "        </tr>\n",
              "    </thead>\n",
              "    <tbody>\n",
              "        <tr>\n",
              "            <td>18</td>\n",
              "        </tr>\n",
              "    </tbody>\n",
              "</table>"
            ]
          },
          "metadata": {},
          "execution_count": 59
        }
      ]
    },
    {
      "cell_type": "markdown",
      "source": [
        "Q5. Explain Primary Key and Foreign Key.\n",
        "\n",
        "a primary key is a column or a set of columns in a database table that uniquely identifies each row in that table. a primary key constraint enforces the uniqueness and non-null property of the key columns"
      ],
      "metadata": {
        "id": "ccbj_5emZE7i"
      }
    },
    {
      "cell_type": "code",
      "source": [
        "%%sql\n",
        "drop table rajan"
      ],
      "metadata": {
        "colab": {
          "base_uri": "https://localhost:8080/"
        },
        "id": "Qe_x4q29aeVs",
        "outputId": "a338e96c-3b1d-45cd-9bdd-0a687cde7467"
      },
      "execution_count": null,
      "outputs": [
        {
          "output_type": "stream",
          "name": "stdout",
          "text": [
            " * sqlite://\n",
            "Done.\n"
          ]
        },
        {
          "output_type": "execute_result",
          "data": {
            "text/plain": [
              "[]"
            ]
          },
          "metadata": {},
          "execution_count": 67
        }
      ]
    },
    {
      "cell_type": "code",
      "source": [
        "%%sql\n",
        "create table rajan (\n",
        "  id int primary key,\n",
        "  name varchar(30),\n",
        "  age int\n",
        ");"
      ],
      "metadata": {
        "colab": {
          "base_uri": "https://localhost:8080/"
        },
        "id": "p3Al7zIgZC4C",
        "outputId": "c3fce9fc-d839-40a9-f287-ecee37a57559"
      },
      "execution_count": null,
      "outputs": [
        {
          "output_type": "stream",
          "name": "stdout",
          "text": [
            " * sqlite://\n",
            "Done.\n"
          ]
        },
        {
          "output_type": "execute_result",
          "data": {
            "text/plain": [
              "[]"
            ]
          },
          "metadata": {},
          "execution_count": 68
        }
      ]
    },
    {
      "cell_type": "markdown",
      "source": [
        "a foreign key is a column in a database table that establishes a link between data in two tables. It creates a relationship between tables by referencing the primary key of another table."
      ],
      "metadata": {
        "id": "8DqfmSf6bD0t"
      }
    },
    {
      "cell_type": "code",
      "source": [
        "%%sql\n",
        "CREATE TABLE Enrollments (\n",
        "    StudentName VARCHAR(50),\n",
        "    id int,\n",
        "    FOREIGN KEY (id) REFERENCES rajan(id)\n",
        ")\n"
      ],
      "metadata": {
        "colab": {
          "base_uri": "https://localhost:8080/"
        },
        "id": "Wnf_ujFbas5A",
        "outputId": "ea22ca12-a90c-466f-fe9e-807575673a98"
      },
      "execution_count": null,
      "outputs": [
        {
          "output_type": "stream",
          "name": "stdout",
          "text": [
            " * sqlite://\n",
            "Done.\n"
          ]
        },
        {
          "output_type": "execute_result",
          "data": {
            "text/plain": [
              "[]"
            ]
          },
          "metadata": {},
          "execution_count": 76
        }
      ]
    },
    {
      "cell_type": "code",
      "source": [
        "%%sql\n",
        "select * from enrollments"
      ],
      "metadata": {
        "colab": {
          "base_uri": "https://localhost:8080/",
          "height": 74
        },
        "id": "x8zN6RYeby7k",
        "outputId": "159a749b-c5d5-4829-b245-848f57af26c5"
      },
      "execution_count": null,
      "outputs": [
        {
          "output_type": "stream",
          "name": "stdout",
          "text": [
            " * sqlite://\n",
            "Done.\n"
          ]
        },
        {
          "output_type": "execute_result",
          "data": {
            "text/plain": [
              "[]"
            ],
            "text/html": [
              "<table>\n",
              "    <thead>\n",
              "        <tr>\n",
              "            <th>StudentName</th>\n",
              "            <th>id</th>\n",
              "        </tr>\n",
              "    </thead>\n",
              "    <tbody>\n",
              "    </tbody>\n",
              "</table>"
            ]
          },
          "metadata": {},
          "execution_count": 78
        }
      ]
    },
    {
      "cell_type": "markdown",
      "source": [
        "Q6. Write a python code to connect MySQL to python. Explain the cursor() and execute() method.\n",
        "\n",
        "A cursor is an object that allows you to execute SQL queries and fetch results from the database. You create a cursor using mydb.cursor\n",
        "\n",
        "you use the execute method of the cursor to execute SQL queries using the cursor object"
      ],
      "metadata": {
        "id": "fwsy8ILRekJM"
      }
    },
    {
      "cell_type": "code",
      "source": [
        "import mysql.connector\n",
        "mydb = mysql.connector.connect(\n",
        "  host=\"localhost\",\n",
        "  user=\"abc\",\n",
        "  password=\"password\"\n",
        ")\n",
        "mycursor = mydb.cursor()\n",
        "#mycursor.execute(\"select * from test2.test_table\")\n",
        "mycursor.execute(\"select c1 , c5 from test2.test_table\")\n",
        "for i in mycursor.fetchall() :\n",
        "    print(i)\n",
        "\n",
        "mydb.close()"
      ],
      "metadata": {
        "id": "bZbsI-51eFOz"
      },
      "execution_count": null,
      "outputs": []
    },
    {
      "cell_type": "markdown",
      "source": [
        "Q7. Give the order of execution of SQL clauses in an SQL query.\n",
        "\n",
        "FROM\n",
        "WHERE\n",
        "GROUP BY\n",
        "HAVING\n",
        "ORDER BY"
      ],
      "metadata": {
        "id": "a-TP9mFrftcC"
      }
    },
    {
      "cell_type": "code",
      "source": [],
      "metadata": {
        "id": "SNcTT9mNf0qI"
      },
      "execution_count": null,
      "outputs": []
    }
  ]
}